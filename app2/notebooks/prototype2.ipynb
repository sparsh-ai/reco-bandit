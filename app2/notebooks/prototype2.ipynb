{
 "cells": [
  {
   "cell_type": "code",
   "execution_count": 67,
   "metadata": {},
   "outputs": [],
   "source": [
    "mapping_users = {\n",
    "    'Alex':'usera',\n",
    "    'Ben':'userb',\n",
    "    'Cindy': 'userc'\n",
    "}\n",
    "    \n",
    "mapping_context1 = {\n",
    "    'Morning':'ctx11',\n",
    "    'Evening':'ctx12',\n",
    "}\n",
    "\n",
    "mapping_context2 = {\n",
    "    'Summer':'ctx21',\n",
    "    'Winter':'ctx22'\n",
    "}\n",
    "\n",
    "mapping_items = {\n",
    "    'Politics':'item1',\n",
    "    'Economics':'item2',\n",
    "    'Technology':'item3',\n",
    "    'Movies':'item4',\n",
    "    'Business':'item5',\n",
    "    'History':'item6'\n",
    "}\n",
    "\n",
    "# {v:k for k,v in mappings.items()}"
   ]
  },
  {
   "cell_type": "code",
   "execution_count": 68,
   "metadata": {},
   "outputs": [],
   "source": [
    "from vowpalwabbit import pyvw\n",
    "import random\n",
    "import matplotlib.pyplot as plt\n",
    "import pandas as pd\n",
    "from itertools import product"
   ]
  },
  {
   "cell_type": "code",
   "execution_count": 69,
   "metadata": {},
   "outputs": [],
   "source": [
    "users = list(mapping_users.values())\n",
    "items = list(mapping_items.values())\n",
    "context1 = list(mapping_context1.values())\n",
    "context2 = list(mapping_context2.values())"
   ]
  },
  {
   "cell_type": "code",
   "execution_count": 55,
   "metadata": {},
   "outputs": [],
   "source": [
    "context = pd.DataFrame(list(product(users, context1, context2, items)), columns=['users', 'context1', 'context2', 'items'])\n",
    "context['reward'] = np.random.choice([0,1],len(context))\n",
    "context['cost'] = context['reward']*-1\n",
    "contextdf = context.copy()"
   ]
  },
  {
   "cell_type": "code",
   "execution_count": 56,
   "metadata": {},
   "outputs": [
    {
     "data": {
      "text/html": [
       "<div>\n",
       "<style scoped>\n",
       "    .dataframe tbody tr th:only-of-type {\n",
       "        vertical-align: middle;\n",
       "    }\n",
       "\n",
       "    .dataframe tbody tr th {\n",
       "        vertical-align: top;\n",
       "    }\n",
       "\n",
       "    .dataframe thead th {\n",
       "        text-align: right;\n",
       "    }\n",
       "</style>\n",
       "<table border=\"1\" class=\"dataframe\">\n",
       "  <thead>\n",
       "    <tr style=\"text-align: right;\">\n",
       "      <th></th>\n",
       "      <th>users</th>\n",
       "      <th>context1</th>\n",
       "      <th>context2</th>\n",
       "      <th>items</th>\n",
       "      <th>reward</th>\n",
       "      <th>cost</th>\n",
       "    </tr>\n",
       "  </thead>\n",
       "  <tbody>\n",
       "    <tr>\n",
       "      <th>0</th>\n",
       "      <td>usera</td>\n",
       "      <td>ctx11</td>\n",
       "      <td>ctx21</td>\n",
       "      <td>item1</td>\n",
       "      <td>1</td>\n",
       "      <td>-1</td>\n",
       "    </tr>\n",
       "    <tr>\n",
       "      <th>1</th>\n",
       "      <td>usera</td>\n",
       "      <td>ctx11</td>\n",
       "      <td>ctx21</td>\n",
       "      <td>item2</td>\n",
       "      <td>1</td>\n",
       "      <td>-1</td>\n",
       "    </tr>\n",
       "    <tr>\n",
       "      <th>2</th>\n",
       "      <td>usera</td>\n",
       "      <td>ctx11</td>\n",
       "      <td>ctx21</td>\n",
       "      <td>item3</td>\n",
       "      <td>1</td>\n",
       "      <td>-1</td>\n",
       "    </tr>\n",
       "    <tr>\n",
       "      <th>3</th>\n",
       "      <td>usera</td>\n",
       "      <td>ctx11</td>\n",
       "      <td>ctx21</td>\n",
       "      <td>item4</td>\n",
       "      <td>0</td>\n",
       "      <td>0</td>\n",
       "    </tr>\n",
       "    <tr>\n",
       "      <th>4</th>\n",
       "      <td>usera</td>\n",
       "      <td>ctx11</td>\n",
       "      <td>ctx21</td>\n",
       "      <td>item5</td>\n",
       "      <td>0</td>\n",
       "      <td>0</td>\n",
       "    </tr>\n",
       "    <tr>\n",
       "      <th>...</th>\n",
       "      <td>...</td>\n",
       "      <td>...</td>\n",
       "      <td>...</td>\n",
       "      <td>...</td>\n",
       "      <td>...</td>\n",
       "      <td>...</td>\n",
       "    </tr>\n",
       "    <tr>\n",
       "      <th>67</th>\n",
       "      <td>userc</td>\n",
       "      <td>ctx12</td>\n",
       "      <td>ctx22</td>\n",
       "      <td>item2</td>\n",
       "      <td>0</td>\n",
       "      <td>0</td>\n",
       "    </tr>\n",
       "    <tr>\n",
       "      <th>68</th>\n",
       "      <td>userc</td>\n",
       "      <td>ctx12</td>\n",
       "      <td>ctx22</td>\n",
       "      <td>item3</td>\n",
       "      <td>0</td>\n",
       "      <td>0</td>\n",
       "    </tr>\n",
       "    <tr>\n",
       "      <th>69</th>\n",
       "      <td>userc</td>\n",
       "      <td>ctx12</td>\n",
       "      <td>ctx22</td>\n",
       "      <td>item4</td>\n",
       "      <td>1</td>\n",
       "      <td>-1</td>\n",
       "    </tr>\n",
       "    <tr>\n",
       "      <th>70</th>\n",
       "      <td>userc</td>\n",
       "      <td>ctx12</td>\n",
       "      <td>ctx22</td>\n",
       "      <td>item5</td>\n",
       "      <td>1</td>\n",
       "      <td>-1</td>\n",
       "    </tr>\n",
       "    <tr>\n",
       "      <th>71</th>\n",
       "      <td>userc</td>\n",
       "      <td>ctx12</td>\n",
       "      <td>ctx22</td>\n",
       "      <td>item6</td>\n",
       "      <td>0</td>\n",
       "      <td>0</td>\n",
       "    </tr>\n",
       "  </tbody>\n",
       "</table>\n",
       "<p>72 rows × 6 columns</p>\n",
       "</div>"
      ],
      "text/plain": [
       "    users context1 context2  items  reward  cost\n",
       "0   usera    ctx11    ctx21  item1       1    -1\n",
       "1   usera    ctx11    ctx21  item2       1    -1\n",
       "2   usera    ctx11    ctx21  item3       1    -1\n",
       "3   usera    ctx11    ctx21  item4       0     0\n",
       "4   usera    ctx11    ctx21  item5       0     0\n",
       "..    ...      ...      ...    ...     ...   ...\n",
       "67  userc    ctx12    ctx22  item2       0     0\n",
       "68  userc    ctx12    ctx22  item3       0     0\n",
       "69  userc    ctx12    ctx22  item4       1    -1\n",
       "70  userc    ctx12    ctx22  item5       1    -1\n",
       "71  userc    ctx12    ctx22  item6       0     0\n",
       "\n",
       "[72 rows x 6 columns]"
      ]
     },
     "execution_count": 56,
     "metadata": {},
     "output_type": "execute_result"
    }
   ],
   "source": [
    "contextdf"
   ]
  },
  {
   "cell_type": "code",
   "execution_count": 96,
   "metadata": {},
   "outputs": [],
   "source": [
    "import numpy as np\n",
    "import scipy\n",
    "import scipy.stats as stats\n",
    "from vowpalwabbit import pyvw\n",
    "import random\n",
    "import pandas as pd\n",
    "from itertools import product"
   ]
  },
  {
   "cell_type": "code",
   "execution_count": 97,
   "metadata": {},
   "outputs": [],
   "source": [
    "# This function modifies (context, action, cost, probability) to VW friendly format\n",
    "def to_vw_example_format(context, actions, cb_label=None):\n",
    "    if cb_label is not None:\n",
    "        chosen_action, cost, prob = cb_label\n",
    "    example_string = \"\"\n",
    "    example_string += \"shared |User users={} context1={} context2={}\\n\".format(context[\"user\"], context[\"context1\"], context[\"context2\"])\n",
    "    for action in actions:\n",
    "        if cb_label is not None and action == chosen_action:\n",
    "            example_string += \"0:{}:{} \".format(cost, prob)\n",
    "        example_string += \"|Action items={} \\n\".format(action)\n",
    "    #Strip the last newline\n",
    "    return example_string[:-1]\n",
    "def sample_custom_pmf(pmf):\n",
    "    total = sum(pmf)\n",
    "    scale = 1 / total\n",
    "    pmf = [x * scale for x in pmf]\n",
    "    draw = random.random()\n",
    "    sum_prob = 0.0\n",
    "    for index, prob in enumerate(pmf):\n",
    "        sum_prob += prob\n",
    "        if(sum_prob > draw):\n",
    "            return index, prob\n",
    "def get_action(vw, context, actions):\n",
    "    vw_text_example = to_vw_example_format(context, actions)\n",
    "    pmf = vw.predict(vw_text_example)\n",
    "    chosen_action_index, prob = sample_custom_pmf(pmf)\n",
    "    return actions[chosen_action_index], prob\n",
    "def choose_user(users):\n",
    "    return random.choice(users)\n",
    "def choose_context1(context1):\n",
    "    return random.choice(context1)\n",
    "def choose_context2(context2):\n",
    "    return random.choice(context2)"
   ]
  },
  {
   "cell_type": "code",
   "execution_count": 135,
   "metadata": {},
   "outputs": [],
   "source": [
    "class VWCSimulation():\n",
    "    def __init__(self, vw, ictxt, n=100000):\n",
    "        self.vw = vw\n",
    "        self.users = ictxt['users'].unique().tolist()\n",
    "        self.contexts1 = ictxt['context1'].unique().tolist()\n",
    "        self.contexts2 = ictxt['context2'].unique().tolist()\n",
    "        self.actions = ictxt['items'].unique().tolist()\n",
    "        self.contextdf = ictxt.copy()\n",
    "        self.contextdf['cost'] = self.contextdf['reward']*-1\n",
    "        \n",
    "    def get_cost(self, context, action):\n",
    "        return self.contextdf.loc[(self.contextdf['users']==context['user']) & \\\n",
    "                (self.contextdf.context1==context['context1']) & \\\n",
    "                (self.contextdf.context2==context['context2']) & \\\n",
    "                (self.contextdf['items']==action), \\\n",
    "                'cost'].values[0]\n",
    "    \n",
    "    def update_context(self, new_ctxt):\n",
    "        self.contextdf = new_ctxt.copy()\n",
    "        self.contextdf['cost'] = self.contextdf['reward']*-1\n",
    "    \n",
    "    def step(self):\n",
    "        user = choose_user(self.users)\n",
    "        context1 = choose_context1(self.contexts1)\n",
    "        context2 = choose_context2(self.contexts2)\n",
    "        context = {'user': user, 'context1': context1, 'context2': context2}\n",
    "        action, prob = get_action(self.vw, context, self.actions)\n",
    "        cost = self.get_cost(context, action)\n",
    "        vw_format = self.vw.parse(to_vw_example_format(context, self.actions, (action, cost, prob)), pyvw.vw.lContextualBandit)\n",
    "        self.vw.learn(vw_format)\n",
    "        self.vw.finish_example(vw_format)\n",
    "        return (context['user'], context['context1'], context['context2'], action, cost, prob)"
   ]
  },
  {
   "cell_type": "code",
   "execution_count": 136,
   "metadata": {},
   "outputs": [
    {
     "data": {
      "text/plain": [
       "0    61\n",
       "1    11\n",
       "Name: reward, dtype: int64"
      ]
     },
     "execution_count": 136,
     "metadata": {},
     "output_type": "execute_result"
    }
   ],
   "source": [
    "context = pd.DataFrame(list(product(users, context1, context2, items)), columns=['users', 'context1', 'context2', 'items'])\n",
    "context['reward'] = np.random.choice([0,1],len(context),p=[0.8,0.2])\n",
    "contextdf = context.copy()\n",
    "contextdf.reward.value_counts()"
   ]
  },
  {
   "cell_type": "code",
   "execution_count": 137,
   "metadata": {},
   "outputs": [],
   "source": [
    "vw = pyvw.vw(\"--cb_explore_adf -q UA --quiet --epsilon 0.2\")\n",
    "vws = VWCSimulation(vw, contextdf)"
   ]
  },
  {
   "cell_type": "code",
   "execution_count": 138,
   "metadata": {},
   "outputs": [
    {
     "data": {
      "text/plain": [
       "('usera', 'ctx11', 'ctx22', 'item4', 0, 0.16666666666666666)"
      ]
     },
     "execution_count": 138,
     "metadata": {},
     "output_type": "execute_result"
    }
   ],
   "source": [
    "vws.step()"
   ]
  },
  {
   "cell_type": "code",
   "execution_count": 139,
   "metadata": {},
   "outputs": [],
   "source": [
    "_temp = []\n",
    "for i in range(5000):\n",
    "    _temp.append(vws.step())"
   ]
  },
  {
   "cell_type": "code",
   "execution_count": 140,
   "metadata": {},
   "outputs": [],
   "source": [
    "x = pd.DataFrame.from_records(_temp, columns=['user','context1','context2','item','cost','prob'])"
   ]
  },
  {
   "cell_type": "code",
   "execution_count": 141,
   "metadata": {},
   "outputs": [
    {
     "data": {
      "text/html": [
       "<div>\n",
       "<style scoped>\n",
       "    .dataframe tbody tr th:only-of-type {\n",
       "        vertical-align: middle;\n",
       "    }\n",
       "\n",
       "    .dataframe tbody tr th {\n",
       "        vertical-align: top;\n",
       "    }\n",
       "\n",
       "    .dataframe thead th {\n",
       "        text-align: right;\n",
       "    }\n",
       "</style>\n",
       "<table border=\"1\" class=\"dataframe\">\n",
       "  <thead>\n",
       "    <tr style=\"text-align: right;\">\n",
       "      <th></th>\n",
       "      <th>iter</th>\n",
       "      <th>user</th>\n",
       "      <th>context1</th>\n",
       "      <th>context2</th>\n",
       "      <th>item</th>\n",
       "      <th>cost</th>\n",
       "      <th>prob</th>\n",
       "      <th>ccost</th>\n",
       "      <th>ctr</th>\n",
       "    </tr>\n",
       "  </thead>\n",
       "  <tbody>\n",
       "    <tr>\n",
       "      <th>3199</th>\n",
       "      <td>3199</td>\n",
       "      <td>usera</td>\n",
       "      <td>ctx11</td>\n",
       "      <td>ctx22</td>\n",
       "      <td>item5</td>\n",
       "      <td>-1</td>\n",
       "      <td>0.833333</td>\n",
       "      <td>-1781</td>\n",
       "      <td>0.556736</td>\n",
       "    </tr>\n",
       "    <tr>\n",
       "      <th>700</th>\n",
       "      <td>700</td>\n",
       "      <td>userb</td>\n",
       "      <td>ctx11</td>\n",
       "      <td>ctx22</td>\n",
       "      <td>item4</td>\n",
       "      <td>-1</td>\n",
       "      <td>0.833333</td>\n",
       "      <td>-343</td>\n",
       "      <td>0.490000</td>\n",
       "    </tr>\n",
       "    <tr>\n",
       "      <th>3660</th>\n",
       "      <td>3660</td>\n",
       "      <td>usera</td>\n",
       "      <td>ctx12</td>\n",
       "      <td>ctx22</td>\n",
       "      <td>item5</td>\n",
       "      <td>0</td>\n",
       "      <td>0.833333</td>\n",
       "      <td>-2035</td>\n",
       "      <td>0.556011</td>\n",
       "    </tr>\n",
       "    <tr>\n",
       "      <th>4123</th>\n",
       "      <td>4123</td>\n",
       "      <td>userc</td>\n",
       "      <td>ctx12</td>\n",
       "      <td>ctx22</td>\n",
       "      <td>item5</td>\n",
       "      <td>-1</td>\n",
       "      <td>0.833333</td>\n",
       "      <td>-2302</td>\n",
       "      <td>0.558331</td>\n",
       "    </tr>\n",
       "    <tr>\n",
       "      <th>4448</th>\n",
       "      <td>4448</td>\n",
       "      <td>userb</td>\n",
       "      <td>ctx11</td>\n",
       "      <td>ctx22</td>\n",
       "      <td>item4</td>\n",
       "      <td>-1</td>\n",
       "      <td>0.833333</td>\n",
       "      <td>-2480</td>\n",
       "      <td>0.557554</td>\n",
       "    </tr>\n",
       "    <tr>\n",
       "      <th>485</th>\n",
       "      <td>485</td>\n",
       "      <td>usera</td>\n",
       "      <td>ctx11</td>\n",
       "      <td>ctx21</td>\n",
       "      <td>item2</td>\n",
       "      <td>-1</td>\n",
       "      <td>0.833333</td>\n",
       "      <td>-219</td>\n",
       "      <td>0.451546</td>\n",
       "    </tr>\n",
       "    <tr>\n",
       "      <th>3280</th>\n",
       "      <td>3280</td>\n",
       "      <td>userb</td>\n",
       "      <td>ctx11</td>\n",
       "      <td>ctx21</td>\n",
       "      <td>item1</td>\n",
       "      <td>0</td>\n",
       "      <td>0.033333</td>\n",
       "      <td>-1822</td>\n",
       "      <td>0.555488</td>\n",
       "    </tr>\n",
       "    <tr>\n",
       "      <th>1679</th>\n",
       "      <td>1679</td>\n",
       "      <td>userb</td>\n",
       "      <td>ctx12</td>\n",
       "      <td>ctx21</td>\n",
       "      <td>item6</td>\n",
       "      <td>-1</td>\n",
       "      <td>0.833333</td>\n",
       "      <td>-901</td>\n",
       "      <td>0.536629</td>\n",
       "    </tr>\n",
       "    <tr>\n",
       "      <th>3489</th>\n",
       "      <td>3489</td>\n",
       "      <td>userc</td>\n",
       "      <td>ctx11</td>\n",
       "      <td>ctx21</td>\n",
       "      <td>item3</td>\n",
       "      <td>-1</td>\n",
       "      <td>0.833333</td>\n",
       "      <td>-1932</td>\n",
       "      <td>0.553740</td>\n",
       "    </tr>\n",
       "    <tr>\n",
       "      <th>103</th>\n",
       "      <td>103</td>\n",
       "      <td>usera</td>\n",
       "      <td>ctx11</td>\n",
       "      <td>ctx22</td>\n",
       "      <td>item2</td>\n",
       "      <td>0</td>\n",
       "      <td>0.833333</td>\n",
       "      <td>-24</td>\n",
       "      <td>0.233010</td>\n",
       "    </tr>\n",
       "  </tbody>\n",
       "</table>\n",
       "</div>"
      ],
      "text/plain": [
       "      iter   user context1 context2   item  cost      prob  ccost       ctr\n",
       "3199  3199  usera    ctx11    ctx22  item5    -1  0.833333  -1781  0.556736\n",
       "700    700  userb    ctx11    ctx22  item4    -1  0.833333   -343  0.490000\n",
       "3660  3660  usera    ctx12    ctx22  item5     0  0.833333  -2035  0.556011\n",
       "4123  4123  userc    ctx12    ctx22  item5    -1  0.833333  -2302  0.558331\n",
       "4448  4448  userb    ctx11    ctx22  item4    -1  0.833333  -2480  0.557554\n",
       "485    485  usera    ctx11    ctx21  item2    -1  0.833333   -219  0.451546\n",
       "3280  3280  userb    ctx11    ctx21  item1     0  0.033333  -1822  0.555488\n",
       "1679  1679  userb    ctx12    ctx21  item6    -1  0.833333   -901  0.536629\n",
       "3489  3489  userc    ctx11    ctx21  item3    -1  0.833333  -1932  0.553740\n",
       "103    103  usera    ctx11    ctx22  item2     0  0.833333    -24  0.233010"
      ]
     },
     "execution_count": 141,
     "metadata": {},
     "output_type": "execute_result"
    }
   ],
   "source": [
    "xx = x.copy()\n",
    "xx['ccost'] = xx['cost'].cumsum()\n",
    "xx = xx.fillna(0)\n",
    "xx = xx.rename_axis('iter').reset_index()\n",
    "xx['ctr'] = -1*xx['ccost']/xx['iter']\n",
    "xx.sample(10)"
   ]
  },
  {
   "cell_type": "code",
   "execution_count": 142,
   "metadata": {},
   "outputs": [
    {
     "data": {
      "text/plain": [
       "<AxesSubplot:>"
      ]
     },
     "execution_count": 142,
     "metadata": {},
     "output_type": "execute_result"
    },
    {
     "data": {
      "image/png": "[encoded data removed]",
      "text/plain": [
       "<Figure size 432x288 with 1 Axes>"
      ]
     },
     "metadata": {
      "needs_background": "light"
     },
     "output_type": "display_data"
    }
   ],
   "source": [
    "xx['ccost'].plot()"
   ]
  },
  {
   "cell_type": "code",
   "execution_count": 143,
   "metadata": {},
   "outputs": [
    {
     "data": {
      "text/plain": [
       "<AxesSubplot:>"
      ]
     },
     "execution_count": 143,
     "metadata": {},
     "output_type": "execute_result"
    },
    {
     "data": {
      "image/png": "[encoded data removed]",
      "text/plain": [
       "<Figure size 432x288 with 1 Axes>"
      ]
     },
     "metadata": {
      "needs_background": "light"
     },
     "output_type": "display_data"
    }
   ],
   "source": [
    "xx['ctr'].plot()"
   ]
  },
  {
   "cell_type": "code",
   "execution_count": 144,
   "metadata": {},
   "outputs": [],
   "source": [
    "tempdf1 = xx.copy()"
   ]
  },
  {
   "cell_type": "code",
   "execution_count": 145,
   "metadata": {},
   "outputs": [
    {
     "data": {
      "text/plain": [
       "0    60\n",
       "1    12\n",
       "Name: reward, dtype: int64"
      ]
     },
     "execution_count": 145,
     "metadata": {},
     "output_type": "execute_result"
    }
   ],
   "source": [
    "context = pd.DataFrame(list(product(users, context1, context2, items)), columns=['users', 'context1', 'context2', 'items'])\n",
    "context['reward'] = 0\n",
    "X = context.copy()\n",
    "X.loc[(X['users']=='usera')&(X['items']=='item1'),'reward']=1\n",
    "X.loc[(X['users']=='userb')&(X['items']=='item2'),'reward']=1\n",
    "X.loc[(X['users']=='userc')&(X['items']=='item3'),'reward']=1\n",
    "X.reward.value_counts()"
   ]
  },
  {
   "cell_type": "code",
   "execution_count": 146,
   "metadata": {},
   "outputs": [],
   "source": [
    "vws.update_context(X)"
   ]
  },
  {
   "cell_type": "code",
   "execution_count": 147,
   "metadata": {},
   "outputs": [],
   "source": [
    "_temp = []\n",
    "for i in range(5000):\n",
    "    _temp.append(vws.step())"
   ]
  },
  {
   "cell_type": "code",
   "execution_count": 148,
   "metadata": {},
   "outputs": [
    {
     "data": {
      "text/html": [
       "<div>\n",
       "<style scoped>\n",
       "    .dataframe tbody tr th:only-of-type {\n",
       "        vertical-align: middle;\n",
       "    }\n",
       "\n",
       "    .dataframe tbody tr th {\n",
       "        vertical-align: top;\n",
       "    }\n",
       "\n",
       "    .dataframe thead th {\n",
       "        text-align: right;\n",
       "    }\n",
       "</style>\n",
       "<table border=\"1\" class=\"dataframe\">\n",
       "  <thead>\n",
       "    <tr style=\"text-align: right;\">\n",
       "      <th></th>\n",
       "      <th>iter</th>\n",
       "      <th>user</th>\n",
       "      <th>context1</th>\n",
       "      <th>context2</th>\n",
       "      <th>item</th>\n",
       "      <th>cost</th>\n",
       "      <th>prob</th>\n",
       "      <th>ccost</th>\n",
       "      <th>ctr</th>\n",
       "    </tr>\n",
       "  </thead>\n",
       "  <tbody>\n",
       "    <tr>\n",
       "      <th>354</th>\n",
       "      <td>354</td>\n",
       "      <td>userc</td>\n",
       "      <td>ctx12</td>\n",
       "      <td>ctx21</td>\n",
       "      <td>item2</td>\n",
       "      <td>0</td>\n",
       "      <td>0.833333</td>\n",
       "      <td>-88</td>\n",
       "      <td>0.248588</td>\n",
       "    </tr>\n",
       "    <tr>\n",
       "      <th>3362</th>\n",
       "      <td>3362</td>\n",
       "      <td>userb</td>\n",
       "      <td>ctx11</td>\n",
       "      <td>ctx22</td>\n",
       "      <td>item2</td>\n",
       "      <td>-1</td>\n",
       "      <td>0.833333</td>\n",
       "      <td>-2481</td>\n",
       "      <td>0.737954</td>\n",
       "    </tr>\n",
       "    <tr>\n",
       "      <th>485</th>\n",
       "      <td>485</td>\n",
       "      <td>usera</td>\n",
       "      <td>ctx11</td>\n",
       "      <td>ctx22</td>\n",
       "      <td>item1</td>\n",
       "      <td>-1</td>\n",
       "      <td>0.833333</td>\n",
       "      <td>-171</td>\n",
       "      <td>0.352577</td>\n",
       "    </tr>\n",
       "    <tr>\n",
       "      <th>3383</th>\n",
       "      <td>3383</td>\n",
       "      <td>userb</td>\n",
       "      <td>ctx11</td>\n",
       "      <td>ctx22</td>\n",
       "      <td>item3</td>\n",
       "      <td>0</td>\n",
       "      <td>0.033333</td>\n",
       "      <td>-2499</td>\n",
       "      <td>0.738693</td>\n",
       "    </tr>\n",
       "    <tr>\n",
       "      <th>2803</th>\n",
       "      <td>2803</td>\n",
       "      <td>userc</td>\n",
       "      <td>ctx12</td>\n",
       "      <td>ctx21</td>\n",
       "      <td>item3</td>\n",
       "      <td>-1</td>\n",
       "      <td>0.833333</td>\n",
       "      <td>-2002</td>\n",
       "      <td>0.714235</td>\n",
       "    </tr>\n",
       "    <tr>\n",
       "      <th>3410</th>\n",
       "      <td>3410</td>\n",
       "      <td>userb</td>\n",
       "      <td>ctx12</td>\n",
       "      <td>ctx21</td>\n",
       "      <td>item3</td>\n",
       "      <td>0</td>\n",
       "      <td>0.033333</td>\n",
       "      <td>-2521</td>\n",
       "      <td>0.739296</td>\n",
       "    </tr>\n",
       "    <tr>\n",
       "      <th>267</th>\n",
       "      <td>267</td>\n",
       "      <td>usera</td>\n",
       "      <td>ctx12</td>\n",
       "      <td>ctx21</td>\n",
       "      <td>item4</td>\n",
       "      <td>0</td>\n",
       "      <td>0.033333</td>\n",
       "      <td>-54</td>\n",
       "      <td>0.202247</td>\n",
       "    </tr>\n",
       "    <tr>\n",
       "      <th>3848</th>\n",
       "      <td>3848</td>\n",
       "      <td>userb</td>\n",
       "      <td>ctx12</td>\n",
       "      <td>ctx21</td>\n",
       "      <td>item2</td>\n",
       "      <td>-1</td>\n",
       "      <td>0.833333</td>\n",
       "      <td>-2888</td>\n",
       "      <td>0.750520</td>\n",
       "    </tr>\n",
       "    <tr>\n",
       "      <th>54</th>\n",
       "      <td>54</td>\n",
       "      <td>userb</td>\n",
       "      <td>ctx12</td>\n",
       "      <td>ctx21</td>\n",
       "      <td>item6</td>\n",
       "      <td>0</td>\n",
       "      <td>0.833333</td>\n",
       "      <td>-13</td>\n",
       "      <td>0.240741</td>\n",
       "    </tr>\n",
       "    <tr>\n",
       "      <th>1447</th>\n",
       "      <td>1447</td>\n",
       "      <td>userc</td>\n",
       "      <td>ctx11</td>\n",
       "      <td>ctx21</td>\n",
       "      <td>item5</td>\n",
       "      <td>0</td>\n",
       "      <td>0.033333</td>\n",
       "      <td>-891</td>\n",
       "      <td>0.615757</td>\n",
       "    </tr>\n",
       "  </tbody>\n",
       "</table>\n",
       "</div>"
      ],
      "text/plain": [
       "      iter   user context1 context2   item  cost      prob  ccost       ctr\n",
       "354    354  userc    ctx12    ctx21  item2     0  0.833333    -88  0.248588\n",
       "3362  3362  userb    ctx11    ctx22  item2    -1  0.833333  -2481  0.737954\n",
       "485    485  usera    ctx11    ctx22  item1    -1  0.833333   -171  0.352577\n",
       "3383  3383  userb    ctx11    ctx22  item3     0  0.033333  -2499  0.738693\n",
       "2803  2803  userc    ctx12    ctx21  item3    -1  0.833333  -2002  0.714235\n",
       "3410  3410  userb    ctx12    ctx21  item3     0  0.033333  -2521  0.739296\n",
       "267    267  usera    ctx12    ctx21  item4     0  0.033333    -54  0.202247\n",
       "3848  3848  userb    ctx12    ctx21  item2    -1  0.833333  -2888  0.750520\n",
       "54      54  userb    ctx12    ctx21  item6     0  0.833333    -13  0.240741\n",
       "1447  1447  userc    ctx11    ctx21  item5     0  0.033333   -891  0.615757"
      ]
     },
     "execution_count": 148,
     "metadata": {},
     "output_type": "execute_result"
    }
   ],
   "source": [
    "x = pd.DataFrame.from_records(_temp, columns=['user','context1','context2','item','cost','prob'])\n",
    "xx = x.copy()\n",
    "xx['ccost'] = xx['cost'].cumsum()\n",
    "xx = xx.fillna(0)\n",
    "xx = xx.rename_axis('iter').reset_index()\n",
    "xx['ctr'] = -1*xx['ccost']/xx['iter']\n",
    "xx.sample(10)"
   ]
  },
  {
   "cell_type": "code",
   "execution_count": 149,
   "metadata": {},
   "outputs": [
    {
     "data": {
      "text/html": [
       "<div>\n",
       "<style scoped>\n",
       "    .dataframe tbody tr th:only-of-type {\n",
       "        vertical-align: middle;\n",
       "    }\n",
       "\n",
       "    .dataframe tbody tr th {\n",
       "        vertical-align: top;\n",
       "    }\n",
       "\n",
       "    .dataframe thead th {\n",
       "        text-align: right;\n",
       "    }\n",
       "</style>\n",
       "<table border=\"1\" class=\"dataframe\">\n",
       "  <thead>\n",
       "    <tr style=\"text-align: right;\">\n",
       "      <th></th>\n",
       "      <th>iter</th>\n",
       "      <th>user</th>\n",
       "      <th>context1</th>\n",
       "      <th>context2</th>\n",
       "      <th>item</th>\n",
       "      <th>cost</th>\n",
       "      <th>prob</th>\n",
       "      <th>ccost</th>\n",
       "      <th>ctr</th>\n",
       "    </tr>\n",
       "  </thead>\n",
       "  <tbody>\n",
       "    <tr>\n",
       "      <th>8837</th>\n",
       "      <td>3837</td>\n",
       "      <td>usera</td>\n",
       "      <td>ctx12</td>\n",
       "      <td>ctx22</td>\n",
       "      <td>item1</td>\n",
       "      <td>-1</td>\n",
       "      <td>0.833333</td>\n",
       "      <td>-2879</td>\n",
       "      <td>0.750326</td>\n",
       "    </tr>\n",
       "    <tr>\n",
       "      <th>8210</th>\n",
       "      <td>3210</td>\n",
       "      <td>userc</td>\n",
       "      <td>ctx11</td>\n",
       "      <td>ctx21</td>\n",
       "      <td>item2</td>\n",
       "      <td>0</td>\n",
       "      <td>0.033333</td>\n",
       "      <td>-2348</td>\n",
       "      <td>0.731464</td>\n",
       "    </tr>\n",
       "    <tr>\n",
       "      <th>3280</th>\n",
       "      <td>3280</td>\n",
       "      <td>userb</td>\n",
       "      <td>ctx11</td>\n",
       "      <td>ctx21</td>\n",
       "      <td>item1</td>\n",
       "      <td>0</td>\n",
       "      <td>0.033333</td>\n",
       "      <td>-1822</td>\n",
       "      <td>0.555488</td>\n",
       "    </tr>\n",
       "    <tr>\n",
       "      <th>1029</th>\n",
       "      <td>1029</td>\n",
       "      <td>userc</td>\n",
       "      <td>ctx12</td>\n",
       "      <td>ctx21</td>\n",
       "      <td>item1</td>\n",
       "      <td>0</td>\n",
       "      <td>0.033333</td>\n",
       "      <td>-531</td>\n",
       "      <td>0.516035</td>\n",
       "    </tr>\n",
       "    <tr>\n",
       "      <th>4183</th>\n",
       "      <td>4183</td>\n",
       "      <td>userc</td>\n",
       "      <td>ctx12</td>\n",
       "      <td>ctx22</td>\n",
       "      <td>item2</td>\n",
       "      <td>0</td>\n",
       "      <td>0.033333</td>\n",
       "      <td>-2328</td>\n",
       "      <td>0.556538</td>\n",
       "    </tr>\n",
       "    <tr>\n",
       "      <th>2715</th>\n",
       "      <td>2715</td>\n",
       "      <td>userc</td>\n",
       "      <td>ctx11</td>\n",
       "      <td>ctx22</td>\n",
       "      <td>item4</td>\n",
       "      <td>-1</td>\n",
       "      <td>0.833333</td>\n",
       "      <td>-1467</td>\n",
       "      <td>0.540331</td>\n",
       "    </tr>\n",
       "    <tr>\n",
       "      <th>6300</th>\n",
       "      <td>1300</td>\n",
       "      <td>usera</td>\n",
       "      <td>ctx12</td>\n",
       "      <td>ctx21</td>\n",
       "      <td>item1</td>\n",
       "      <td>-1</td>\n",
       "      <td>0.833333</td>\n",
       "      <td>-776</td>\n",
       "      <td>0.596923</td>\n",
       "    </tr>\n",
       "    <tr>\n",
       "      <th>7111</th>\n",
       "      <td>2111</td>\n",
       "      <td>usera</td>\n",
       "      <td>ctx12</td>\n",
       "      <td>ctx21</td>\n",
       "      <td>item1</td>\n",
       "      <td>-1</td>\n",
       "      <td>0.833333</td>\n",
       "      <td>-1427</td>\n",
       "      <td>0.675983</td>\n",
       "    </tr>\n",
       "    <tr>\n",
       "      <th>4008</th>\n",
       "      <td>4008</td>\n",
       "      <td>usera</td>\n",
       "      <td>ctx11</td>\n",
       "      <td>ctx22</td>\n",
       "      <td>item5</td>\n",
       "      <td>-1</td>\n",
       "      <td>0.833333</td>\n",
       "      <td>-2239</td>\n",
       "      <td>0.558633</td>\n",
       "    </tr>\n",
       "    <tr>\n",
       "      <th>2236</th>\n",
       "      <td>2236</td>\n",
       "      <td>userc</td>\n",
       "      <td>ctx12</td>\n",
       "      <td>ctx21</td>\n",
       "      <td>item2</td>\n",
       "      <td>-1</td>\n",
       "      <td>0.833333</td>\n",
       "      <td>-1203</td>\n",
       "      <td>0.538014</td>\n",
       "    </tr>\n",
       "  </tbody>\n",
       "</table>\n",
       "</div>"
      ],
      "text/plain": [
       "      iter   user context1 context2   item  cost      prob  ccost       ctr\n",
       "8837  3837  usera    ctx12    ctx22  item1    -1  0.833333  -2879  0.750326\n",
       "8210  3210  userc    ctx11    ctx21  item2     0  0.033333  -2348  0.731464\n",
       "3280  3280  userb    ctx11    ctx21  item1     0  0.033333  -1822  0.555488\n",
       "1029  1029  userc    ctx12    ctx21  item1     0  0.033333   -531  0.516035\n",
       "4183  4183  userc    ctx12    ctx22  item2     0  0.033333  -2328  0.556538\n",
       "2715  2715  userc    ctx11    ctx22  item4    -1  0.833333  -1467  0.540331\n",
       "6300  1300  usera    ctx12    ctx21  item1    -1  0.833333   -776  0.596923\n",
       "7111  2111  usera    ctx12    ctx21  item1    -1  0.833333  -1427  0.675983\n",
       "4008  4008  usera    ctx11    ctx22  item5    -1  0.833333  -2239  0.558633\n",
       "2236  2236  userc    ctx12    ctx21  item2    -1  0.833333  -1203  0.538014"
      ]
     },
     "execution_count": 149,
     "metadata": {},
     "output_type": "execute_result"
    }
   ],
   "source": [
    "tempdf2 = tempdf1.append(xx, ignore_index=True)\n",
    "tempdf2.sample(10)"
   ]
  },
  {
   "cell_type": "code",
   "execution_count": 150,
   "metadata": {},
   "outputs": [
    {
     "data": {
      "text/plain": [
       "<AxesSubplot:>"
      ]
     },
     "execution_count": 150,
     "metadata": {},
     "output_type": "execute_result"
    },
    {
     "data": {
      "image/png": "[encoded data removed]",
      "text/plain": [
       "<Figure size 432x288 with 1 Axes>"
      ]
     },
     "metadata": {
      "needs_background": "light"
     },
     "output_type": "display_data"
    }
   ],
   "source": [
    "tempdf2['ccost'].plot()"
   ]
  },
  {
   "cell_type": "code",
   "execution_count": 151,
   "metadata": {},
   "outputs": [
    {
     "data": {
      "text/plain": [
       "<AxesSubplot:>"
      ]
     },
     "execution_count": 151,
     "metadata": {},
     "output_type": "execute_result"
    },
    {
     "data": {
      "image/png": "[encoded data removed]",
      "text/plain": [
       "<Figure size 432x288 with 1 Axes>"
      ]
     },
     "metadata": {
      "needs_background": "light"
     },
     "output_type": "display_data"
    }
   ],
   "source": [
    "tempdf2['ctr'].plot()"
   ]
  },
  {
   "cell_type": "code",
   "execution_count": null,
   "metadata": {},
   "outputs": [],
   "source": []
  }
 ],
 "metadata": {
  "kernelspec": {
   "display_name": "Python 3",
   "language": "python",
   "name": "python3"
  },
  "language_info": {
   "codemirror_mode": {
    "name": "ipython",
    "version": 3
   },
   "file_extension": ".py",
   "mimetype": "text/x-python",
   "name": "python",
   "nbconvert_exporter": "python",
   "pygments_lexer": "ipython3",
   "version": "3.7.3"
  }
 },
 "nbformat": 4,
 "nbformat_minor": 4
}
