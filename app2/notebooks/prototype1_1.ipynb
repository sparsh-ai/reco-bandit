{
  "nbformat": 4,
  "nbformat_minor": 0,
  "metadata": {
    "colab": {
      "name": "VW_Contextual_Default.ipynb",
      "provenance": [],
      "collapsed_sections": []
    },
    "kernelspec": {
      "name": "python3",
      "display_name": "Python 3"
    },
    "language_info": {
      "name": "python"
    }
  },
  "cells": [
    {
      "cell_type": "code",
      "metadata": {
        "colab": {
          "base_uri": "https://localhost:8080/"
        },
        "id": "7SCDe05G1QSx",
        "outputId": "0a5a2044-4c4d-46ef-8352-f7ddd6bed068"
      },
      "source": [
        "!pip install vowpalwabbit"
      ],
      "execution_count": null,
      "outputs": [
        {
          "output_type": "stream",
          "text": [
            "Collecting vowpalwabbit\n",
            "\u001b[?25l  Downloading https://files.pythonhosted.org/packages/3d/1e/dd4cb7143ed9d2b088d1e2e64f9a643039085837b5ea90f5600f3984b8eb/vowpalwabbit-8.10.1-cp37-cp37m-manylinux2010_x86_64.whl (2.6MB)\n",
            "\u001b[K     |████████████████████████████████| 2.6MB 3.7MB/s \n",
            "\u001b[?25hInstalling collected packages: vowpalwabbit\n",
            "Successfully installed vowpalwabbit-8.10.1\n"
          ],
          "name": "stdout"
        }
      ]
    },
    {
      "cell_type": "code",
      "metadata": {
        "id": "U17IKmm51Sa_"
      },
      "source": [
        "from vowpalwabbit import pyvw\n",
        "import random\n",
        "import matplotlib.pyplot as plt"
      ],
      "execution_count": null,
      "outputs": []
    },
    {
      "cell_type": "code",
      "metadata": {
        "id": "AFdEwthO1U6N"
      },
      "source": [
        "USER_LIKED_ARTICLE = -1.0\n",
        "USER_DISLIKED_ARTICLE = 0.0"
      ],
      "execution_count": null,
      "outputs": []
    },
    {
      "cell_type": "code",
      "metadata": {
        "id": "QlOd83hd1Z3F"
      },
      "source": [
        "def get_cost(context,action):\n",
        "    if context['user'] == \"Tom\":\n",
        "        if context['time_of_day'] == \"morning\" and action == 'politics':\n",
        "            return USER_LIKED_ARTICLE\n",
        "        elif context['time_of_day'] == \"afternoon\" and action == 'music':\n",
        "            return USER_LIKED_ARTICLE\n",
        "        else:\n",
        "            return USER_DISLIKED_ARTICLE\n",
        "    elif context['user'] == \"Anna\":\n",
        "        if context['time_of_day'] == \"morning\" and action == 'sports':\n",
        "            return USER_LIKED_ARTICLE\n",
        "        elif context['time_of_day'] == \"afternoon\" and action == 'politics':\n",
        "            return USER_LIKED_ARTICLE\n",
        "        else:\n",
        "            return USER_DISLIKED_ARTICLE"
      ],
      "execution_count": null,
      "outputs": []
    },
    {
      "cell_type": "code",
      "metadata": {
        "id": "ub-6-Y5P1bhd"
      },
      "source": [
        "# This function modifies (context, action, cost, probability) to VW friendly format\n",
        "def to_vw_example_format(context, actions, cb_label = None):\n",
        "    if cb_label is not None:\n",
        "        chosen_action, cost, prob = cb_label\n",
        "    example_string = \"\"\n",
        "    example_string += \"shared |User user={} time_of_day={}\\n\".format(context[\"user\"], context[\"time_of_day\"])\n",
        "    for action in actions:\n",
        "        if cb_label is not None and action == chosen_action:\n",
        "            example_string += \"0:{}:{} \".format(cost, prob)\n",
        "        example_string += \"|Action article={} \\n\".format(action)\n",
        "    #Strip the last newline\n",
        "    return example_string[:-1]"
      ],
      "execution_count": null,
      "outputs": []
    },
    {
      "cell_type": "code",
      "metadata": {
        "colab": {
          "base_uri": "https://localhost:8080/"
        },
        "id": "onZzvDqJ1uNW",
        "outputId": "ef1a60f4-5acc-4ef9-dfde-a1e9f1b64fde"
      },
      "source": [
        "context = {\"user\":\"Tom\",\"time_of_day\":\"morning\"}\n",
        "actions = [\"politics\", \"sports\", \"music\", \"food\"]\n",
        "\n",
        "print(to_vw_example_format(context,actions))"
      ],
      "execution_count": null,
      "outputs": [
        {
          "output_type": "stream",
          "text": [
            "shared |User user=Tom time_of_day=morning\n",
            "|Action article=politics \n",
            "|Action article=sports \n",
            "|Action article=music \n",
            "|Action article=food \n"
          ],
          "name": "stdout"
        }
      ]
    },
    {
      "cell_type": "code",
      "metadata": {
        "id": "dM_aaYyb5xe9"
      },
      "source": [
        "def sample_custom_pmf(pmf):\n",
        "    total = sum(pmf)\n",
        "    scale = 1 / total\n",
        "    pmf = [x * scale for x in pmf]\n",
        "    draw = random.random()\n",
        "    sum_prob = 0.0\n",
        "    for index, prob in enumerate(pmf):\n",
        "        sum_prob += prob\n",
        "        if(sum_prob > draw):\n",
        "            return index, prob"
      ],
      "execution_count": null,
      "outputs": []
    },
    {
      "cell_type": "code",
      "metadata": {
        "id": "2lNJpOK015WG"
      },
      "source": [
        "# def sample_custom_pmf(pmf):\n",
        "#     total = sum(pmf)\n",
        "#     scale = 1 / total\n",
        "#     pmf = [x * scale for x in pmf]\n",
        "#     print(pmf)\n",
        "#     draw = random.random()\n",
        "#     print(draw)\n",
        "#     sum_prob = 0.0\n",
        "#     for index, prob in enumerate(pmf):\n",
        "#         sum_prob += prob\n",
        "#         print(sum_prob)\n",
        "#         if(sum_prob > draw):\n",
        "#             return index, prob"
      ],
      "execution_count": null,
      "outputs": []
    },
    {
      "cell_type": "code",
      "metadata": {
        "id": "zpOS_c5z4d0u"
      },
      "source": [
        "# pmf = [0.7, 0.9, 0.1]\n",
        "# sample_custom_pmf(pmf)"
      ],
      "execution_count": null,
      "outputs": []
    },
    {
      "cell_type": "code",
      "metadata": {
        "id": "1xeAG23o2EGj"
      },
      "source": [
        "def get_action(vw, context, actions):\n",
        "    vw_text_example = to_vw_example_format(context,actions)\n",
        "    pmf = vw.predict(vw_text_example)\n",
        "    chosen_action_index, prob = sample_custom_pmf(pmf)\n",
        "    return actions[chosen_action_index], prob"
      ],
      "execution_count": null,
      "outputs": []
    },
    {
      "cell_type": "code",
      "metadata": {
        "id": "az_BHiJ32EwX"
      },
      "source": [
        "users = ['Tom', 'Anna']\n",
        "times_of_day = ['morning', 'afternoon']\n",
        "actions = [\"politics\", \"sports\", \"music\", \"food\", \"finance\", \"health\", \"camping\"]\n",
        "\n",
        "def choose_user(users):\n",
        "    return random.choice(users)\n",
        "\n",
        "def choose_time_of_day(times_of_day):\n",
        "    return random.choice(times_of_day)"
      ],
      "execution_count": null,
      "outputs": []
    },
    {
      "cell_type": "code",
      "metadata": {
        "id": "XqWD3pqt2GTr"
      },
      "source": [
        "def run_simulation(vw, num_iterations, users, times_of_day, actions, cost_function, do_learn = True):\n",
        "    cost_sum = 0.\n",
        "    ctr = []\n",
        "\n",
        "    for i in range(1, num_iterations+1):\n",
        "        # 1. In each simulation choose a user\n",
        "        user = choose_user(users)\n",
        "        # 2. Choose time of day for a given user\n",
        "        time_of_day = choose_time_of_day(times_of_day)\n",
        "\n",
        "        # 3. Pass context to vw to get an action\n",
        "        context = {'user': user, 'time_of_day': time_of_day}\n",
        "        action, prob = get_action(vw, context, actions)\n",
        "\n",
        "        # 4. Get cost of the action we chose\n",
        "        cost = cost_function(context, action)\n",
        "        cost_sum += cost\n",
        "\n",
        "        if do_learn:\n",
        "            # 5. Inform VW of what happened so we can learn from it\n",
        "            vw_format = vw.parse(to_vw_example_format(context, actions, (action, cost, prob)),pyvw.vw.lContextualBandit)\n",
        "            # 6. Learn\n",
        "            vw.learn(vw_format)\n",
        "            # 7. Let VW know you're done with these objects\n",
        "            vw.finish_example(vw_format)\n",
        "\n",
        "        # We negate this so that on the plot instead of minimizing cost, we are maximizing reward\n",
        "        ctr.append(-1*cost_sum/i)\n",
        "\n",
        "    return ctr"
      ],
      "execution_count": null,
      "outputs": []
    },
    {
      "cell_type": "code",
      "metadata": {
        "id": "fPDQ5H512KEj"
      },
      "source": [
        "def plot_ctr(num_iterations, ctr):\n",
        "    plt.plot(range(1,num_iterations+1), ctr)\n",
        "    plt.xlabel('num_iterations', fontsize=14)\n",
        "    plt.ylabel('ctr', fontsize=14)\n",
        "    plt.ylim([0,1])"
      ],
      "execution_count": null,
      "outputs": []
    },
    {
      "cell_type": "code",
      "metadata": {
        "colab": {
          "base_uri": "https://localhost:8080/",
          "height": 287
        },
        "id": "wPhRpLyo2MmF",
        "outputId": "88cba190-0898-44c8-f6f7-bdfa047b1f48"
      },
      "source": [
        "# Instantiate learner in VW\n",
        "vw = pyvw.vw(\"--cb_explore_adf -q UA --quiet --epsilon 0.2\")\n",
        "\n",
        "num_iterations = 5000\n",
        "ctr = run_simulation(vw, num_iterations, users, times_of_day, actions, get_cost)\n",
        "\n",
        "plot_ctr(num_iterations, ctr)"
      ],
      "execution_count": null,
      "outputs": [
        {
          "output_type": "display_data",
          "data": {
            "image/png": "[encoded data removed]",
            "text/plain": [
              "<Figure size 432x288 with 1 Axes>"
            ]
          },
          "metadata": {
            "tags": [],
            "needs_background": "light"
          }
        }
      ]
    },
    {
      "cell_type": "code",
      "metadata": {
        "colab": {
          "base_uri": "https://localhost:8080/",
          "height": 287
        },
        "id": "TL81VOqK2Tbq",
        "outputId": "3e7c4c23-5b43-4b58-fc3d-7e05ef8b7856"
      },
      "source": [
        "# Instantiate learner in VW but without -q\n",
        "vw = pyvw.vw(\"--cb_explore_adf --quiet --epsilon 0.2\")\n",
        "\n",
        "num_iterations = 5000\n",
        "ctr = run_simulation(vw, num_iterations, users, times_of_day, actions, get_cost)\n",
        "\n",
        "plot_ctr(num_iterations, ctr)"
      ],
      "execution_count": null,
      "outputs": [
        {
          "output_type": "display_data",
          "data": {
            "image/png": "[encoded data removed]",
            "text/plain": [
              "<Figure size 432x288 with 1 Axes>"
            ]
          },
          "metadata": {
            "tags": [],
            "needs_background": "light"
          }
        }
      ]
    },
    {
      "cell_type": "code",
      "metadata": {
        "colab": {
          "base_uri": "https://localhost:8080/",
          "height": 287
        },
        "id": "2vU5Kozv2WDg",
        "outputId": "c0c9fd0b-cd30-4ccc-d4bb-a00aae615dfa"
      },
      "source": [
        "# Instantiate learner in VW\n",
        "vw = pyvw.vw(\"--cb_explore_adf -q UA --quiet --epsilon 0.2\")\n",
        "\n",
        "num_iterations = 5000\n",
        "ctr = run_simulation(vw, num_iterations, users, times_of_day, actions, get_cost, do_learn=False)\n",
        "\n",
        "plot_ctr(num_iterations, ctr)"
      ],
      "execution_count": null,
      "outputs": [
        {
          "output_type": "display_data",
          "data": {
            "image/png": "[encoded data removed]",
            "text/plain": [
              "<Figure size 432x288 with 1 Axes>"
            ]
          },
          "metadata": {
            "tags": [],
            "needs_background": "light"
          }
        }
      ]
    },
    {
      "cell_type": "code",
      "metadata": {
        "id": "UzavSLvC2ZHm"
      },
      "source": [
        "def get_cost_new1(context,action):\n",
        "    if context['user'] == \"Tom\":\n",
        "        if context['time_of_day'] == \"morning\" and action == 'politics':\n",
        "            return USER_LIKED_ARTICLE\n",
        "        elif context['time_of_day'] == \"afternoon\" and action == 'sports':\n",
        "            return USER_LIKED_ARTICLE\n",
        "        else:\n",
        "            return USER_DISLIKED_ARTICLE\n",
        "    elif context['user'] == \"Anna\":\n",
        "        if context['time_of_day'] == \"morning\" and action == 'sports':\n",
        "            return USER_LIKED_ARTICLE\n",
        "        elif context['time_of_day'] == \"afternoon\" and action == 'sports':\n",
        "            return USER_LIKED_ARTICLE\n",
        "        else:\n",
        "            return USER_DISLIKED_ARTICLE"
      ],
      "execution_count": null,
      "outputs": []
    },
    {
      "cell_type": "code",
      "metadata": {
        "id": "Mqvn5gLc2ik2"
      },
      "source": [
        "def run_simulation_multiple_cost_functions(vw, num_iterations, users, times_of_day, actions, cost_functions, do_learn = True):\n",
        "    cost_sum = 0.\n",
        "    ctr = []\n",
        "\n",
        "    start_counter = 1\n",
        "    end_counter = start_counter + num_iterations\n",
        "    for cost_function in cost_functions:\n",
        "        for i in range(start_counter, end_counter):\n",
        "            # 1. in each simulation choose a user\n",
        "            user = choose_user(users)\n",
        "            # 2. choose time of day for a given user\n",
        "            time_of_day = choose_time_of_day(times_of_day)\n",
        "\n",
        "            # Construct context based on chosen user and time of day\n",
        "            context = {'user': user, 'time_of_day': time_of_day}\n",
        "\n",
        "            # 3. Use the get_action function we defined earlier\n",
        "            action, prob = get_action(vw, context, actions)\n",
        "\n",
        "            # 4. Get cost of the action we chose\n",
        "            cost = cost_function(context, action)\n",
        "            cost_sum += cost\n",
        "\n",
        "            if do_learn:\n",
        "                # 5. Inform VW of what happened so we can learn from it\n",
        "                vw_format = vw.parse(to_vw_example_format(context, actions, (action, cost, prob)),pyvw.vw.lContextualBandit)\n",
        "                # 6. Learn\n",
        "                vw.learn(vw_format)\n",
        "\n",
        "            # We negate this so that on the plot instead of minimizing cost, we are maximizing reward\n",
        "            ctr.append(-1*cost_sum/i)\n",
        "        start_counter = end_counter\n",
        "        end_counter = start_counter + num_iterations\n",
        "\n",
        "    return ctr"
      ],
      "execution_count": null,
      "outputs": []
    },
    {
      "cell_type": "code",
      "metadata": {
        "colab": {
          "base_uri": "https://localhost:8080/",
          "height": 287
        },
        "id": "ExchBfTr2lBS",
        "outputId": "b9b36aae-0cd3-422d-d032-aacc0180976e"
      },
      "source": [
        "# use first reward function initially and then switch to second reward function\n",
        "\n",
        "# Instantiate learner in VW\n",
        "vw = pyvw.vw(\"--cb_explore_adf -q UA --quiet --epsilon 0.2\")\n",
        "\n",
        "num_iterations_per_cost_func = 5000\n",
        "cost_functions = [get_cost, get_cost_new1]\n",
        "total_iterations = num_iterations_per_cost_func * len(cost_functions)\n",
        "\n",
        "ctr = run_simulation_multiple_cost_functions(vw, num_iterations_per_cost_func, users, times_of_day, actions, cost_functions)\n",
        "\n",
        "plot_ctr(total_iterations, ctr)"
      ],
      "execution_count": null,
      "outputs": [
        {
          "output_type": "display_data",
          "data": {
            "image/png": "[encoded data removed]",
            "text/plain": [
              "<Figure size 432x288 with 1 Axes>"
            ]
          },
          "metadata": {
            "tags": [],
            "needs_background": "light"
          }
        }
      ]
    },
    {
      "cell_type": "code",
      "metadata": {
        "colab": {
          "base_uri": "https://localhost:8080/",
          "height": 287
        },
        "id": "mgaEviR42mlI",
        "outputId": "d6469c20-5f09-40d0-d819-c9251dc10a21"
      },
      "source": [
        "# Do not learn\n",
        "# use first reward function initially and then switch to second reward function\n",
        "\n",
        "# Instantiate learner in VW\n",
        "vw = pyvw.vw(\"--cb_explore_adf -q UA --quiet --epsilon 0.2\")\n",
        "\n",
        "num_iterations_per_cost_func = 5000\n",
        "cost_functions = [get_cost, get_cost_new1]\n",
        "total_iterations = num_iterations_per_cost_func * len(cost_functions)\n",
        "\n",
        "ctr = run_simulation_multiple_cost_functions(vw, num_iterations_per_cost_func, users, times_of_day, actions, cost_functions, do_learn=False)\n",
        "plot_ctr(total_iterations, ctr)"
      ],
      "execution_count": null,
      "outputs": [
        {
          "output_type": "display_data",
          "data": {
            "image/png": "[encoded data removed]",
            "text/plain": [
              "<Figure size 432x288 with 1 Axes>"
            ]
          },
          "metadata": {
            "tags": [],
            "needs_background": "light"
          }
        }
      ]
    },
    {
      "cell_type": "code",
      "metadata": {
        "id": "fxduWgQi2oAg"
      },
      "source": [
        "def get_cost_new2(context,action):\n",
        "    if context['user'] == \"Tom\":\n",
        "        if context['time_of_day'] == \"morning\" and action == 'politics':\n",
        "            return USER_LIKED_ARTICLE\n",
        "        elif context['time_of_day'] == \"afternoon\" and action == 'food':\n",
        "            return USER_LIKED_ARTICLE\n",
        "        else:\n",
        "            return USER_DISLIKED_ARTICLE\n",
        "    elif context['user'] == \"Anna\":\n",
        "        if context['time_of_day'] == \"morning\" and action == 'food':\n",
        "            return USER_LIKED_ARTICLE\n",
        "        elif context['time_of_day'] == \"afternoon\" and action == 'food':\n",
        "            return USER_LIKED_ARTICLE\n",
        "        else:\n",
        "            return USER_DISLIKED_ARTICLE"
      ],
      "execution_count": null,
      "outputs": []
    },
    {
      "cell_type": "code",
      "metadata": {
        "colab": {
          "base_uri": "https://localhost:8080/",
          "height": 287
        },
        "id": "_FhFtvKl2u-e",
        "outputId": "0779c99b-b947-458a-90c5-bd3b5aeca5d1"
      },
      "source": [
        "# use first reward function initially and then switch to third reward function\n",
        "\n",
        "# Instantiate learner in VW\n",
        "vw = pyvw.vw(\"--cb_explore_adf -q UA --quiet --epsilon 0.2\")\n",
        "\n",
        "num_iterations_per_cost_func = 5000\n",
        "cost_functions = [get_cost, get_cost_new2]\n",
        "total_iterations = num_iterations_per_cost_func * len(cost_functions)\n",
        "\n",
        "ctr = run_simulation_multiple_cost_functions(vw, num_iterations_per_cost_func, users, times_of_day, actions, cost_functions)\n",
        "\n",
        "plot_ctr(total_iterations, ctr)"
      ],
      "execution_count": null,
      "outputs": [
        {
          "output_type": "display_data",
          "data": {
            "image/png": "[encoded data removed]",
            "text/plain": [
              "<Figure size 432x288 with 1 Axes>"
            ]
          },
          "metadata": {
            "tags": [],
            "needs_background": "light"
          }
        }
      ]
    },
    {
      "cell_type": "code",
      "metadata": {
        "colab": {
          "base_uri": "https://localhost:8080/",
          "height": 287
        },
        "id": "HsGABz6r2wZR",
        "outputId": "b6d4d4e1-77ad-4530-ca34-766caf5d19b9"
      },
      "source": [
        "# Do not learn\n",
        "# use first reward function initially and then switch to third reward function\n",
        "\n",
        "# Instantiate learner in VW\n",
        "vw = pyvw.vw(\"--cb_explore_adf -q UA --quiet --epsilon 0.2\")\n",
        "\n",
        "num_iterations_per_cost_func = 5000\n",
        "cost_functions = [get_cost, get_cost_new2]\n",
        "total_iterations = num_iterations_per_cost_func * len(cost_functions)\n",
        "\n",
        "ctr = run_simulation_multiple_cost_functions(vw, num_iterations_per_cost_func, users, times_of_day, actions, cost_functions, do_learn=False)\n",
        "\n",
        "plot_ctr(total_iterations, ctr)"
      ],
      "execution_count": null,
      "outputs": [
        {
          "output_type": "display_data",
          "data": {
            "image/png": "[encoded data removed]",
            "text/plain": [
              "<Figure size 432x288 with 1 Axes>"
            ]
          },
          "metadata": {
            "tags": [],
            "needs_background": "light"
          }
        }
      ]
    },
    {
      "cell_type": "code",
      "metadata": {
        "id": "4EEJ473k2xwx"
      },
      "source": [
        ""
      ],
      "execution_count": null,
      "outputs": []
    }
  ]
}