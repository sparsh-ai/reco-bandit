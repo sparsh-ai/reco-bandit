{
  "nbformat": 4,
  "nbformat_minor": 0,
  "metadata": {
    "colab": {
      "name": "VW_Contextual_Mod1.ipynb",
      "provenance": [],
      "collapsed_sections": []
    },
    "kernelspec": {
      "name": "python3",
      "display_name": "Python 3"
    },
    "language_info": {
      "name": "python"
    }
  },
  "cells": [
    {
      "cell_type": "code",
      "metadata": {
        "colab": {
          "base_uri": "https://localhost:8080/"
        },
        "id": "7SCDe05G1QSx",
        "outputId": "79b0af8b-de7d-4b35-909c-66990c44fad4"
      },
      "source": [
        "!pip install vowpalwabbit"
      ],
      "execution_count": null,
      "outputs": [
        {
          "output_type": "stream",
          "text": [
            "Collecting vowpalwabbit\n",
            "\u001b[?25l  Downloading https://files.pythonhosted.org/packages/3d/1e/dd4cb7143ed9d2b088d1e2e64f9a643039085837b5ea90f5600f3984b8eb/vowpalwabbit-8.10.1-cp37-cp37m-manylinux2010_x86_64.whl (2.6MB)\n",
            "\u001b[K     |████████████████████████████████| 2.6MB 339kB/s \n",
            "\u001b[?25hInstalling collected packages: vowpalwabbit\n",
            "Successfully installed vowpalwabbit-8.10.1\n"
          ],
          "name": "stdout"
        }
      ]
    },
    {
      "cell_type": "code",
      "metadata": {
        "colab": {
          "base_uri": "https://localhost:8080/"
        },
        "id": "njhsjoqcSq3_",
        "outputId": "afcf7f99-6177-47d8-b259-e1a0cdf9675b"
      },
      "source": [
        "!zip -r app.zip /content/dash-sample-apps/apps/dash-clinical-analytics"
      ],
      "execution_count": null,
      "outputs": [
        {
          "output_type": "stream",
          "text": [
            "  adding: content/dash-sample-apps/apps/dash-clinical-analytics/ (stored 0%)\n",
            "  adding: content/dash-sample-apps/apps/dash-clinical-analytics/img/ (stored 0%)\n",
            "  adding: content/dash-sample-apps/apps/dash-clinical-analytics/img/screencapture.png (deflated 14%)\n",
            "  adding: content/dash-sample-apps/apps/dash-clinical-analytics/requirements.txt (deflated 9%)\n",
            "  adding: content/dash-sample-apps/apps/dash-clinical-analytics/assets/ (stored 0%)\n",
            "  adding: content/dash-sample-apps/apps/dash-clinical-analytics/assets/clinical-analytics.css (deflated 68%)\n",
            "  adding: content/dash-sample-apps/apps/dash-clinical-analytics/assets/plotly_logo.png (deflated 1%)\n",
            "  adding: content/dash-sample-apps/apps/dash-clinical-analytics/assets/Acumin-BdPro.otf (deflated 41%)\n",
            "  adding: content/dash-sample-apps/apps/dash-clinical-analytics/assets/resizing.js (deflated 42%)\n",
            "  adding: content/dash-sample-apps/apps/dash-clinical-analytics/assets/base.css (deflated 76%)\n",
            "  adding: content/dash-sample-apps/apps/dash-clinical-analytics/README.md (deflated 46%)\n",
            "  adding: content/dash-sample-apps/apps/dash-clinical-analytics/data/ (stored 0%)\n",
            "  adding: content/dash-sample-apps/apps/dash-clinical-analytics/data/clinical_analytics.csv (deflated 87%)\n",
            "  adding: content/dash-sample-apps/apps/dash-clinical-analytics/Procfile (stored 0%)\n",
            "  adding: content/dash-sample-apps/apps/dash-clinical-analytics/app.py (deflated 76%)\n"
          ],
          "name": "stdout"
        }
      ]
    },
    {
      "cell_type": "code",
      "metadata": {
        "id": "U17IKmm51Sa_"
      },
      "source": [
        "from vowpalwabbit import pyvw\n",
        "import random\n",
        "import matplotlib.pyplot as plt\n",
        "import pandas as pd\n",
        "from itertools import product"
      ],
      "execution_count": null,
      "outputs": []
    },
    {
      "cell_type": "code",
      "metadata": {
        "id": "AFdEwthO1U6N"
      },
      "source": [
        "USER_LIKED_ARTICLE = -1.0\n",
        "USER_DISLIKED_ARTICLE = 0.0"
      ],
      "execution_count": null,
      "outputs": []
    },
    {
      "cell_type": "code",
      "metadata": {
        "id": "Joz5em0y7kfi"
      },
      "source": [
        "users = ['A','B','C']\n",
        "items = ['Item1','Item2','Item3','Item4','Item5','Item6']\n",
        "context1 = ['morning','evening']\n",
        "context2 = ['summer','winter']\n",
        "\n",
        "context = pd.DataFrame(list(product(users, context1, context2, items)), columns=['users', 'context1', 'context2', 'items'])\n",
        "context['reward'] = 0\n",
        "\n",
        "#user 1 likes Item 1 in morning, and Item 6 in summer\n",
        "context.loc[(context.users=='A') & \\\n",
        "            (context.context1=='morning') & \\\n",
        "            (context['items']=='Item1'), \\\n",
        "            'reward'] = 1\n",
        "context.loc[(context.users=='A') & \\\n",
        "            (context.context2=='summer') & \\\n",
        "            (context['items']=='Item6'), \\\n",
        "            'reward'] = 1\n",
        "\n",
        "#user 2 likes Item 2 in winter, and Item 5 in summer morning\n",
        "context.loc[(context.users=='B') & \\\n",
        "            (context.context2=='winter') & \\\n",
        "            (context['items']=='Item2'), \\\n",
        "            'reward'] = 1\n",
        "context.loc[(context.users=='B') & \\\n",
        "            (context.context1=='morning') & \\\n",
        "            (context.context2=='summer') & \\\n",
        "            (context['items']=='Item5'), \\\n",
        "            'reward'] = 1\n",
        "\n",
        "\n",
        "#user 3 likes Item 2 in morning, Item 3 in evening, and item 4 in winter morning\n",
        "context.loc[(context.users=='C') & \\\n",
        "            (context.context1=='morning') & \\\n",
        "            (context['items']=='Item2'), \\\n",
        "            'reward'] = 1\n",
        "context.loc[(context.users=='C') & \\\n",
        "            (context.context1=='evening') & \\\n",
        "            (context['items']=='Item3'), \\\n",
        "            'reward'] = 1\n",
        "context.loc[(context.users=='C') & \\\n",
        "            (context.context1=='morning') & \\\n",
        "            (context.context2=='winter') & \\\n",
        "            (context['items']=='Item4'), \\\n",
        "            'reward'] = 1\n",
        "\n",
        "context['cost'] = context['reward']*-1\n",
        "\n",
        "contextdf = context.copy()"
      ],
      "execution_count": null,
      "outputs": []
    },
    {
      "cell_type": "code",
      "metadata": {
        "id": "_S9shNn-liOP"
      },
      "source": [
        "users = ['A','B','C']\n",
        "items = ['Item1','Item2','Item3','Item4','Item5','Item6']\n",
        "context1 = ['morning','evening']\n",
        "context2 = ['summer','winter']\n",
        "\n",
        "context = pd.DataFrame(list(product(users, context1, context2, items)), columns=['users', 'context1', 'context2', 'items'])\n",
        "context['reward'] = 0\n",
        "\n",
        "#user 1 likes Item 1 in morning, and Item 6 in summer\n",
        "context.loc[(context.users=='A') & \\\n",
        "            (context.context1=='morning') & \\\n",
        "            (context['items']=='Item1'), \\\n",
        "            'reward'] = 1\n",
        "context.loc[(context.users=='A') & \\\n",
        "            (context.context2=='summer') & \\\n",
        "            (context['items']=='Item6'), \\\n",
        "            'reward'] = 1\n",
        "\n",
        "#user 2 likes Item 2 in winter, and Item 5 in summer morning\n",
        "context.loc[(context.users=='B') & \\\n",
        "            (context.context2=='winter') & \\\n",
        "            (context['items']=='Item2'), \\\n",
        "            'reward'] = 1\n",
        "context.loc[(context.users=='B') & \\\n",
        "            (context.context1=='morning') & \\\n",
        "            (context.context2=='summer') & \\\n",
        "            (context['items']=='Item5'), \\\n",
        "            'reward'] = 1\n",
        "\n",
        "\n",
        "#user 3 likes Item 2 in morning, Item 3 in evening, and item 4 in winter morning\n",
        "context.loc[(context.users=='C') & \\\n",
        "            (context.context1=='morning') & \\\n",
        "            (context['items']=='Item2'), \\\n",
        "            'reward'] = 1\n",
        "context.loc[(context.users=='C') & \\\n",
        "            (context.context1=='evening') & \\\n",
        "            (context['items']=='Item3'), \\\n",
        "            'reward'] = 1\n",
        "context.loc[(context.users=='C') & \\\n",
        "            (context.context1=='morning') & \\\n",
        "            (context.context2=='winter') & \\\n",
        "            (context['items']=='Item4'), \\\n",
        "            'reward'] = 1\n",
        "\n",
        "context['cost'] = context['reward']*-1\n",
        "\n",
        "contextdf = context.copy()"
      ],
      "execution_count": null,
      "outputs": []
    },
    {
      "cell_type": "code",
      "metadata": {
        "colab": {
          "base_uri": "https://localhost:8080/"
        },
        "id": "rpgSzAFjv_Rh",
        "outputId": "29a5d4c3-92f6-4ee4-f56f-31752de3c4b0"
      },
      "source": [
        "contextdf.cost.value_counts()"
      ],
      "execution_count": null,
      "outputs": [
        {
          "output_type": "execute_result",
          "data": {
            "text/plain": [
              " 0    60\n",
              "-1    12\n",
              "Name: cost, dtype: int64"
            ]
          },
          "metadata": {
            "tags": []
          },
          "execution_count": 45
        }
      ]
    },
    {
      "cell_type": "code",
      "metadata": {
        "id": "Z8Uuu0axyu-C"
      },
      "source": [
        "# def get_cost(context,action):\n",
        "#     if context['user'] == \"Tom\":\n",
        "#         if context['time_of_day'] == \"morning\" and action == 'politics':\n",
        "#             return USER_LIKED_ARTICLE\n",
        "#         elif context['time_of_day'] == \"afternoon\" and action == 'music':\n",
        "#             return USER_LIKED_ARTICLE\n",
        "#         else:\n",
        "#             return USER_DISLIKED_ARTICLE\n",
        "#     elif context['user'] == \"Anna\":\n",
        "#         if context['time_of_day'] == \"morning\" and action == 'sports':\n",
        "#             return USER_LIKED_ARTICLE\n",
        "#         elif context['time_of_day'] == \"afternoon\" and action == 'politics':\n",
        "#             return USER_LIKED_ARTICLE\n",
        "#         else:\n",
        "#             return USER_DISLIKED_ARTICLE"
      ],
      "execution_count": null,
      "outputs": []
    },
    {
      "cell_type": "code",
      "metadata": {
        "id": "QlOd83hd1Z3F"
      },
      "source": [
        "def get_cost(context,action):\n",
        "    return contextdf.loc[(contextdf['users']==context['user']) & \\\n",
        "            (contextdf.context1==context['context1']) & \\\n",
        "            (contextdf.context2==context['context2']) & \\\n",
        "            (contextdf['items']==action), \\\n",
        "            'cost'].values[0]"
      ],
      "execution_count": null,
      "outputs": []
    },
    {
      "cell_type": "code",
      "metadata": {
        "colab": {
          "base_uri": "https://localhost:8080/"
        },
        "id": "6P_HYhhW8UWO",
        "outputId": "74299b34-3a40-4141-df03-76edf4b56edf"
      },
      "source": [
        "get_cost({'user':'A','context1':'morning','context2':'summer'},'Item2')"
      ],
      "execution_count": null,
      "outputs": [
        {
          "output_type": "execute_result",
          "data": {
            "text/plain": [
              "0"
            ]
          },
          "metadata": {
            "tags": []
          },
          "execution_count": 73
        }
      ]
    },
    {
      "cell_type": "code",
      "metadata": {
        "id": "ub-6-Y5P1bhd"
      },
      "source": [
        "# # This function modifies (context, action, cost, probability) to VW friendly format\n",
        "# def to_vw_example_format(context, actions, cb_label = None):\n",
        "#     if cb_label is not None:\n",
        "#         chosen_action, cost, prob = cb_label\n",
        "#     example_string = \"\"\n",
        "#     example_string += \"shared |User user={} time_of_day={}\\n\".format(context[\"user\"], context[\"time_of_day\"])\n",
        "#     for action in actions:\n",
        "#         if cb_label is not None and action == chosen_action:\n",
        "#             example_string += \"0:{}:{} \".format(cost, prob)\n",
        "#         example_string += \"|Action article={} \\n\".format(action)\n",
        "#     #Strip the last newline\n",
        "#     return example_string[:-1]"
      ],
      "execution_count": null,
      "outputs": []
    },
    {
      "cell_type": "code",
      "metadata": {
        "colab": {
          "base_uri": "https://localhost:8080/"
        },
        "id": "onZzvDqJ1uNW",
        "outputId": "ef1a60f4-5acc-4ef9-dfde-a1e9f1b64fde"
      },
      "source": [
        "# context = {\"user\":\"Tom\",\"time_of_day\":\"morning\"}\n",
        "# actions = [\"politics\", \"sports\", \"music\", \"food\"]\n",
        "\n",
        "# print(to_vw_example_format(context,actions))"
      ],
      "execution_count": null,
      "outputs": [
        {
          "output_type": "stream",
          "text": [
            "shared |User user=Tom time_of_day=morning\n",
            "|Action article=politics \n",
            "|Action article=sports \n",
            "|Action article=music \n",
            "|Action article=food \n"
          ],
          "name": "stdout"
        }
      ]
    },
    {
      "cell_type": "code",
      "metadata": {
        "id": "pTCHTNFf3jRe"
      },
      "source": [
        "# This function modifies (context, action, cost, probability) to VW friendly format\n",
        "def to_vw_example_format(context, actions, cb_label = None):\n",
        "    if cb_label is not None:\n",
        "        chosen_action, cost, prob = cb_label\n",
        "    example_string = \"\"\n",
        "    example_string += \"shared |User users={} context1={} context2={}\\n\".format(context[\"user\"], context[\"context1\"], context[\"context2\"])\n",
        "    for action in actions:\n",
        "        if cb_label is not None and action == chosen_action:\n",
        "            example_string += \"0:{}:{} \".format(cost, prob)\n",
        "        example_string += \"|Action items={} \\n\".format(action)\n",
        "    #Strip the last newline\n",
        "    return example_string[:-1]"
      ],
      "execution_count": null,
      "outputs": []
    },
    {
      "cell_type": "code",
      "metadata": {
        "colab": {
          "base_uri": "https://localhost:8080/"
        },
        "id": "k8dLifwF3eDJ",
        "outputId": "54172834-13fb-4e48-a228-daf9a5ec0680"
      },
      "source": [
        "context = {\"user\":\"A\",\"context1\":\"morning\",\"context2\":\"summer\"}\n",
        "\n",
        "print(to_vw_example_format(context,item))"
      ],
      "execution_count": null,
      "outputs": [
        {
          "output_type": "stream",
          "text": [
            "shared |User users=A context1=morning context2=summer\n",
            "|Action items=Item1 \n",
            "|Action items=Item2 \n",
            "|Action items=Item3 \n",
            "|Action items=Item4 \n",
            "|Action items=Item5 \n",
            "|Action items=Item6 \n"
          ],
          "name": "stdout"
        }
      ]
    },
    {
      "cell_type": "code",
      "metadata": {
        "id": "dM_aaYyb5xe9"
      },
      "source": [
        "def sample_custom_pmf(pmf):\n",
        "    total = sum(pmf)\n",
        "    scale = 1 / total\n",
        "    pmf = [x * scale for x in pmf]\n",
        "    draw = random.random()\n",
        "    sum_prob = 0.0\n",
        "    for index, prob in enumerate(pmf):\n",
        "        sum_prob += prob\n",
        "        if(sum_prob > draw):\n",
        "            return index, prob"
      ],
      "execution_count": null,
      "outputs": []
    },
    {
      "cell_type": "code",
      "metadata": {
        "id": "1xeAG23o2EGj"
      },
      "source": [
        "def get_action(vw, context, actions):\n",
        "    vw_text_example = to_vw_example_format(context,actions)\n",
        "    pmf = vw.predict(vw_text_example)\n",
        "    chosen_action_index, prob = sample_custom_pmf(pmf)\n",
        "    return actions[chosen_action_index], prob"
      ],
      "execution_count": null,
      "outputs": []
    },
    {
      "cell_type": "code",
      "metadata": {
        "id": "VWsWZZWgjVZR"
      },
      "source": [
        ""
      ],
      "execution_count": null,
      "outputs": []
    },
    {
      "cell_type": "code",
      "metadata": {
        "id": "az_BHiJ32EwX"
      },
      "source": [
        "def choose_user(users):\n",
        "    return random.choice(users)\n",
        "\n",
        "def choose_context1(context1):\n",
        "    return random.choice(context1)\n",
        "\n",
        "def choose_context2(context2):\n",
        "    return random.choice(context2)"
      ],
      "execution_count": null,
      "outputs": []
    },
    {
      "cell_type": "code",
      "metadata": {
        "id": "XqWD3pqt2GTr"
      },
      "source": [
        "def run_simulation(vw, num_iterations, users, contexts1, contexts2, actions, cost_function, do_learn = True):\n",
        "    cost_sum = 0.\n",
        "    ctr = []\n",
        "\n",
        "    for i in range(1, num_iterations+1):\n",
        "        user = choose_user(users)\n",
        "        context1 = choose_context1(contexts1)\n",
        "        context2 = choose_context2(contexts2)\n",
        "\n",
        "        context = {'user': user, 'context1': context1, 'context2': context2}\n",
        "        # print(context)\n",
        "        action, prob = get_action(vw, context, actions)\n",
        "        # print(action, prob)\n",
        "\n",
        "        cost = cost_function(context, action)\n",
        "        # print(cost)\n",
        "        cost_sum += cost\n",
        "\n",
        "        if do_learn:\n",
        "            # 5. Inform VW of what happened so we can learn from it\n",
        "            vw_format = vw.parse(to_vw_example_format(context, actions, (action, cost, prob)),pyvw.vw.lContextualBandit)\n",
        "            # 6. Learn\n",
        "            vw.learn(vw_format)\n",
        "            # 7. Let VW know you're done with these objects\n",
        "            vw.finish_example(vw_format)\n",
        "\n",
        "        # We negate this so that on the plot instead of minimizing cost, we are maximizing reward\n",
        "        ctr.append(-1*cost_sum/i)\n",
        "\n",
        "    return ctr"
      ],
      "execution_count": null,
      "outputs": []
    },
    {
      "cell_type": "code",
      "metadata": {
        "id": "fPDQ5H512KEj"
      },
      "source": [
        "def plot_ctr(num_iterations, ctr):\n",
        "    plt.plot(range(1,num_iterations+1), ctr)\n",
        "    plt.xlabel('num_iterations', fontsize=14)\n",
        "    plt.ylabel('ctr', fontsize=14)\n",
        "    plt.ylim([0,1])"
      ],
      "execution_count": null,
      "outputs": []
    },
    {
      "cell_type": "code",
      "metadata": {
        "colab": {
          "base_uri": "https://localhost:8080/",
          "height": 287
        },
        "id": "wPhRpLyo2MmF",
        "outputId": "a5b04514-516a-4c4f-f05c-f6437d3b23de"
      },
      "source": [
        "# Instantiate learner in VW\n",
        "vw = pyvw.vw(\"--cb_explore_adf -q UA --quiet --epsilon 0.2\")\n",
        "\n",
        "num_iterations = 5000\n",
        "ctr = run_simulation(vw, num_iterations, users, context1, context2, items, get_cost)\n",
        "\n",
        "plot_ctr(num_iterations, ctr)"
      ],
      "execution_count": null,
      "outputs": [
        {
          "output_type": "display_data",
          "data": {
            "image/png": "[encoded data removed]",
            "text/plain": [
              "<Figure size 432x288 with 1 Axes>"
            ]
          },
          "metadata": {
            "tags": [],
            "needs_background": "light"
          }
        }
      ]
    },
    {
      "cell_type": "code",
      "metadata": {
        "colab": {
          "base_uri": "https://localhost:8080/",
          "height": 287
        },
        "id": "TL81VOqK2Tbq",
        "outputId": "1171c8f1-11f3-41bc-ad97-a3e518693896"
      },
      "source": [
        "# Instantiate learner in VW but without -q\n",
        "vw = pyvw.vw(\"--cb_explore_adf --quiet --epsilon 0.2\")\n",
        "\n",
        "num_iterations = 5000\n",
        "ctr = run_simulation(vw, num_iterations, users, context1, context2, items, get_cost)\n",
        "\n",
        "plot_ctr(num_iterations, ctr)"
      ],
      "execution_count": null,
      "outputs": [
        {
          "output_type": "display_data",
          "data": {
            "image/png": "[encoded data removed]",
            "text/plain": [
              "<Figure size 432x288 with 1 Axes>"
            ]
          },
          "metadata": {
            "tags": [],
            "needs_background": "light"
          }
        }
      ]
    },
    {
      "cell_type": "code",
      "metadata": {
        "colab": {
          "base_uri": "https://localhost:8080/",
          "height": 287
        },
        "id": "2vU5Kozv2WDg",
        "outputId": "3dae15ae-38e8-418b-dd1b-37e78ce6f828"
      },
      "source": [
        "# Instantiate learner in VW\n",
        "vw = pyvw.vw(\"--cb_explore_adf -q UA --quiet --epsilon 0.2\")\n",
        "\n",
        "num_iterations = 5000\n",
        "ctr = run_simulation(vw, num_iterations, users, context1, context2, items, get_cost, do_learn=False)\n",
        "\n",
        "plot_ctr(num_iterations, ctr)"
      ],
      "execution_count": null,
      "outputs": [
        {
          "output_type": "display_data",
          "data": {
            "image/png": "[encoded data removed]",
            "text/plain": [
              "<Figure size 432x288 with 1 Axes>"
            ]
          },
          "metadata": {
            "tags": [],
            "needs_background": "light"
          }
        }
      ]
    },
    {
      "cell_type": "code",
      "metadata": {
        "id": "UzavSLvC2ZHm"
      },
      "source": [
        "users = ['A','B','C']\n",
        "items = ['Item1','Item2','Item3','Item4','Item5','Item6']\n",
        "context1 = ['morning','evening']\n",
        "context2 = ['summer','winter']\n",
        "\n",
        "context = pd.DataFrame(list(product(users, context1, context2, items)), columns=['users', 'context1', 'context2', 'items'])\n",
        "context['reward'] = 0\n",
        "\n",
        "#user 1 likes Item 2 in morning, and Item 5 in summer\n",
        "context.loc[(context.users=='A') & \\\n",
        "            (context.context1=='morning') & \\\n",
        "            (context['items']=='Item2'), \\\n",
        "            'reward'] = 1\n",
        "context.loc[(context.users=='A') & \\\n",
        "            (context.context2=='summer') & \\\n",
        "            (context['items']=='Item5'), \\\n",
        "            'reward'] = 1\n",
        "\n",
        "#user 2 likes Item 2 in summer, and Item 5 in morning\n",
        "context.loc[(context.users=='B') & \\\n",
        "            (context.context2=='summer') & \\\n",
        "            (context['items']=='Item2'), \\\n",
        "            'reward'] = 1\n",
        "context.loc[(context.users=='B') & \\\n",
        "            (context.context1=='morning') & \\\n",
        "            (context['items']=='Item5'), \\\n",
        "            'reward'] = 1\n",
        "\n",
        "\n",
        "#user 3 likes Item 4 in morning, Item 3 in evening, and item 4 in winter evening\n",
        "context.loc[(context.users=='C') & \\\n",
        "            (context.context1=='morning') & \\\n",
        "            (context['items']=='Item4'), \\\n",
        "            'reward'] = 1\n",
        "context.loc[(context.users=='C') & \\\n",
        "            (context.context1=='evening') & \\\n",
        "            (context['items']=='Item3'), \\\n",
        "            'reward'] = 1\n",
        "context.loc[(context.users=='C') & \\\n",
        "            (context.context1=='evening') & \\\n",
        "            (context.context2=='winter') & \\\n",
        "            (context['items']=='Item4'), \\\n",
        "            'reward'] = 1\n",
        "\n",
        "context['cost'] = context['reward']*-1\n",
        "\n",
        "contextdf_new = context.copy()\n",
        "\n",
        "def get_cost_new1(context,action):\n",
        "    return contextdf_new.loc[(contextdf_new['users']==context['user']) & \\\n",
        "            (contextdf_new.context1==context['context1']) & \\\n",
        "            (contextdf_new.context2==context['context2']) & \\\n",
        "            (contextdf_new['items']==action), \\\n",
        "            'cost'].values[0]"
      ],
      "execution_count": null,
      "outputs": []
    },
    {
      "cell_type": "code",
      "metadata": {
        "id": "Mqvn5gLc2ik2"
      },
      "source": [
        "def run_simulation_multiple_cost_functions(vw, num_iterations, users, contexts1, contexts2, actions, cost_functions, do_learn = True):\n",
        "    cost_sum = 0.\n",
        "    ctr = []\n",
        "\n",
        "    start_counter = 1\n",
        "    end_counter = start_counter + num_iterations\n",
        "    for cost_function in cost_functions:\n",
        "        for i in range(start_counter, end_counter):\n",
        "          user = choose_user(users)\n",
        "          context1 = choose_context1(contexts1)\n",
        "          context2 = choose_context2(contexts2)\n",
        "\n",
        "          context = {'user': user, 'context1': context1, 'context2': context2}\n",
        "          \n",
        "          action, prob = get_action(vw, context, actions)\n",
        "          cost = cost_function(context, action)\n",
        "          cost_sum += cost\n",
        "\n",
        "          if do_learn:\n",
        "              vw_format = vw.parse(to_vw_example_format(context, actions, (action, cost, prob)),pyvw.vw.lContextualBandit)\n",
        "              vw.learn(vw_format)\n",
        "\n",
        "          ctr.append(-1*cost_sum/i)\n",
        "        start_counter = end_counter\n",
        "        end_counter = start_counter + num_iterations\n",
        "\n",
        "    return ctr"
      ],
      "execution_count": null,
      "outputs": []
    },
    {
      "cell_type": "code",
      "metadata": {
        "colab": {
          "base_uri": "https://localhost:8080/",
          "height": 287
        },
        "id": "ExchBfTr2lBS",
        "outputId": "3c23545d-652c-4deb-971c-8da1b409fbd9"
      },
      "source": [
        "# use first reward function initially and then switch to second reward function\n",
        "\n",
        "# Instantiate learner in VW\n",
        "vw = pyvw.vw(\"--cb_explore_adf -q UA --quiet --epsilon 0.2\")\n",
        "\n",
        "num_iterations_per_cost_func = 5000\n",
        "cost_functions = [get_cost, get_cost_new1]\n",
        "total_iterations = num_iterations_per_cost_func * len(cost_functions)\n",
        "\n",
        "ctr = run_simulation_multiple_cost_functions(vw, num_iterations_per_cost_func, users, context1, context2, items, cost_functions)\n",
        "\n",
        "plot_ctr(total_iterations, ctr)"
      ],
      "execution_count": null,
      "outputs": [
        {
          "output_type": "display_data",
          "data": {
            "image/png": "[encoded data removed]",
            "text/plain": [
              "<Figure size 432x288 with 1 Axes>"
            ]
          },
          "metadata": {
            "tags": [],
            "needs_background": "light"
          }
        }
      ]
    },
    {
      "cell_type": "code",
      "metadata": {
        "colab": {
          "base_uri": "https://localhost:8080/",
          "height": 287
        },
        "id": "mgaEviR42mlI",
        "outputId": "00ccc48f-f222-4a58-fe14-d8675d4b13cc"
      },
      "source": [
        "# Do not learn\n",
        "# use first reward function initially and then switch to second reward function\n",
        "\n",
        "# Instantiate learner in VW\n",
        "vw = pyvw.vw(\"--cb_explore_adf -q UA --quiet --epsilon 0.2\")\n",
        "\n",
        "num_iterations_per_cost_func = 5000\n",
        "cost_functions = [get_cost, get_cost_new1]\n",
        "total_iterations = num_iterations_per_cost_func * len(cost_functions)\n",
        "\n",
        "ctr = run_simulation_multiple_cost_functions(vw, num_iterations_per_cost_func, users, context1, context2, items, cost_functions, do_learn=False)\n",
        "plot_ctr(total_iterations, ctr)"
      ],
      "execution_count": null,
      "outputs": [
        {
          "output_type": "display_data",
          "data": {
            "image/png": "[encoded data removed]",
            "text/plain": [
              "<Figure size 432x288 with 1 Axes>"
            ]
          },
          "metadata": {
            "tags": [],
            "needs_background": "light"
          }
        }
      ]
    },
    {
      "cell_type": "code",
      "metadata": {
        "id": "4EEJ473k2xwx"
      },
      "source": [
        ""
      ],
      "execution_count": null,
      "outputs": []
    }
  ]
}