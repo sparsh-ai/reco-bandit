{
  "nbformat": 4,
  "nbformat_minor": 0,
  "metadata": {
    "colab": {
      "name": "ImageSimBandit.ipynb",
      "provenance": [],
      "collapsed_sections": [],
      "mount_file_id": "1nD0QcvBvKuPFpDVsJ389KxiRzF5Hf7XN",
      "authorship_tag": "ABX9TyM7Y9/2ooUcR0GRIVvgOPdf",
      "include_colab_link": true
    },
    "kernelspec": {
      "name": "python3",
      "display_name": "Python 3"
    },
    "language_info": {
      "name": "python"
    }
  },
  "cells": [
    {
      "cell_type": "markdown",
      "metadata": {
        "id": "view-in-github",
        "colab_type": "text"
      },
      "source": [
        "<a href=\"https://colab.research.google.com/gist/sparsh-ai/490663fc15408d7a035d87c34de401e8/imagesimbandit.ipynb\" target=\"_parent\"><img src=\"https://colab.research.google.com/assets/colab-badge.svg\" alt=\"Open In Colab\"/></a>"
      ]
    },
    {
      "cell_type": "code",
      "metadata": {
        "id": "bsfVJFKtzwBP"
      },
      "source": [
        "# !pip install -q -U kaggle\n",
        "# !pip install --upgrade --force-reinstall --no-deps kaggle\n",
        "# !mkdir ~/.kaggle\n",
        "# !cp /content/drive/MyDrive/kaggle.json ~/.kaggle/\n",
        "# !chmod 600 ~/.kaggle/kaggle.json\n",
        "\n",
        "# !kaggle datasets download -d paramaggarwal/fashion-product-images-dataset\n",
        "\n",
        "# !unzip /content/fashion-product-images-dataset.zip\n",
        "\n",
        "# image_path = '/content/fashion-dataset/fashion-dataset/images'\n",
        "\n",
        "# img_paths = []\n",
        "# for path in Path(image_path).rglob('*.jpg'):\n",
        "#     img_paths.append(path)\n",
        "\n",
        "# styles = pd.read_csv('/content/fashion-dataset/fashion-dataset/styles.csv', error_bad_lines=False)\n",
        "# styles.head()\n",
        "\n",
        "# styles_small = styles.sample(1000)\n",
        "\n",
        "# img_paths_small = [x for x in img_paths if x.stem in styles_small.id.astype('str').tolist()]\n",
        "\n",
        "# !mkdir -p /content/data/images\n",
        "# styles_small.to_csv('/content/data/styles.csv', index=False)\n",
        "\n",
        "# import shutil\n",
        "# for src_file in img_paths_small:\n",
        "#     shutil.copy(src_file, '/content/data/images')\n",
        "\n",
        "# import os\n",
        "# import zipfile\n",
        "# def zipdir(path, ziph):\n",
        "#     # ziph is zipfile handle\n",
        "#     for root, dirs, files in os.walk(path):\n",
        "#         for file in files:\n",
        "#             ziph.write(os.path.join(root, file))\n",
        "# zipf = zipfile.ZipFile('data.zip', 'w', zipfile.ZIP_DEFLATED)\n",
        "# zipdir('/content/data', zipf)\n",
        "# zipf.close()\n",
        "\n",
        "# !cp data.zip /content/drive/MyDrive/TempData"
      ],
      "execution_count": null,
      "outputs": []
    },
    {
      "cell_type": "code",
      "metadata": {
        "id": "302WEUFV2Dsv"
      },
      "source": [
        "# !cp /content/drive/MyDrive/TempData/data.zip /content\n",
        "# !cp -r /content/drive/MyDrive/TempData/artifacts /content/content/\n",
        "# !unzip /content/data.zip"
      ],
      "execution_count": null,
      "outputs": []
    },
    {
      "cell_type": "code",
      "metadata": {
        "id": "A_vw8wt2sMBO"
      },
      "source": [
        "!pip install img2vec_pytorch\n",
        "!apt install libomp-dev\n",
        "!pip install --upgrade faiss"
      ],
      "execution_count": null,
      "outputs": []
    },
    {
      "cell_type": "code",
      "metadata": {
        "id": "rsFQ0Mq52gn1"
      },
      "source": [
        "# from pathlib import Path\n",
        "# from img2vec_pytorch import Img2Vec\n",
        "# from PIL import Image\n",
        "# import faiss\n",
        "# import numpy as np\n",
        "# import pandas as pd\n",
        "# import logging\n",
        "# import pickle\n",
        "# import os\n",
        "# import random"
      ],
      "execution_count": null,
      "outputs": []
    },
    {
      "cell_type": "code",
      "metadata": {
        "id": "JG6OAcGQ2glP"
      },
      "source": [
        "image_path = '/content/content/data/images'\n",
        "artifact_path = '/content/content/artifacts'"
      ],
      "execution_count": null,
      "outputs": []
    },
    {
      "cell_type": "code",
      "metadata": {
        "id": "ckepABOO4IH6"
      },
      "source": [
        "# img_paths = []\n",
        "# for path in Path(image_path).rglob('*.jpg'):\n",
        "#     img_paths.append(path)\n",
        "# img2vec = Img2Vec(cuda=False)\n",
        "\n",
        "# def chunks(lst, n):\n",
        "#     \"\"\"Yield successive n-sized chunks from lst.\"\"\"\n",
        "#     for i in range(0, len(lst), n):\n",
        "#         yield lst[i:i + n]\n",
        "\n",
        "# vectors = np.zeros((1,512))\n",
        "# for paths in chunks(img_paths,50):\n",
        "#   _x = img2vec.get_vec([Image.open(ipath) for ipath in paths])\n",
        "#   vectors = np.vstack((vectors,_x))\n",
        "# vectors.shape\n",
        "\n",
        "# vectors = vectors[1:,:]\n",
        "# vectors = vectors.astype(np.float32)\n",
        "\n",
        "# item_vectors = {ipath.stem:vectors[iindex] for iindex, ipath in enumerate(img_paths)}\n",
        "# item_paths = {ipath.stem:ipath for ipath in img_paths}\n",
        "# pickle.dump(item_vectors, open(os.path.join(artifact_path,\"item_vectors.p\"), \"wb\"))\n",
        "# pickle.dump(item_paths, open(os.path.join(artifact_path,\"item_paths.p\"), \"wb\"))\n",
        "\n",
        "# dim = np.array(list(item_vectors.values())).shape[1]\n",
        "# index = faiss.IndexFlatL2(dim)\n",
        "# index.add(np.array(list(item_vectors.values())))\n",
        "# faiss.write_index(index,os.path.join(artifact_path,\"vector.index\"))"
      ],
      "execution_count": null,
      "outputs": []
    },
    {
      "cell_type": "code",
      "metadata": {
        "id": "H8zaUfOZd1HY"
      },
      "source": [
        "item_vectors = pickle.load(open(os.path.join(artifact_path,\"item_vectors.p\"), \"rb\"))\n",
        "index = faiss.read_index(os.path.join(artifact_path,\"vector.index\"))"
      ],
      "execution_count": null,
      "outputs": []
    },
    {
      "cell_type": "code",
      "metadata": {
        "id": "DctX0QsHugoS"
      },
      "source": [
        "def topk_similar(itemid, topk=2):\n",
        "    _, I = index.search(item_vectors[str(itemid)].reshape(1,-1), topk+1)\n",
        "    return [list(item_vectors.keys())[i] for i in I.flatten()][1:]\n",
        "\n",
        "def topk_distance(itemid, topk=2):\n",
        "    D, I = index.search(item_vectors[str(itemid)].reshape(1,-1), topk+1)\n",
        "    return {list(item_vectors.keys())[i]:j for (i,j) in zip(I.flatten(),D.flatten())}\n",
        "\n",
        "def topk_similar2(ivec, topk=5):\n",
        "    _, I = index.search(ivec.reshape(1,-1), topk)\n",
        "    return [list(item_vectors.keys())[i] for i in I.flatten()]"
      ],
      "execution_count": null,
      "outputs": []
    },
    {
      "cell_type": "code",
      "metadata": {
        "id": "LEOVsrOqexKd"
      },
      "source": [
        "feedbackdf = pd.DataFrame(columns=['imgid','feedback'])"
      ],
      "execution_count": null,
      "outputs": []
    },
    {
      "cell_type": "code",
      "metadata": {
        "colab": {
          "base_uri": "https://localhost:8080/",
          "height": 452
        },
        "id": "4PXwOSf5jdb0",
        "outputId": "c678dfd2-fe5c-47ec-a53e-46aa92d0c7fc"
      },
      "source": [
        "feedbackdf = feedbackdf.append(pd.Series(('10017','1'), index=['imgid','feedback']),ignore_index=True)\n",
        "feedbackdf = feedbackdf.append(pd.Series(('10254','1'), index=['imgid','feedback']),ignore_index=True)\n",
        "feedbackdf"
      ],
      "execution_count": null,
      "outputs": [
        {
          "output_type": "execute_result",
          "data": {
            "text/html": [
              "<div>\n",
              "<style scoped>\n",
              "    .dataframe tbody tr th:only-of-type {\n",
              "        vertical-align: middle;\n",
              "    }\n",
              "\n",
              "    .dataframe tbody tr th {\n",
              "        vertical-align: top;\n",
              "    }\n",
              "\n",
              "    .dataframe thead th {\n",
              "        text-align: right;\n",
              "    }\n",
              "</style>\n",
              "<table border=\"1\" class=\"dataframe\">\n",
              "  <thead>\n",
              "    <tr style=\"text-align: right;\">\n",
              "      <th></th>\n",
              "      <th>imgid</th>\n",
              "      <th>feedback</th>\n",
              "    </tr>\n",
              "  </thead>\n",
              "  <tbody>\n",
              "    <tr>\n",
              "      <th>0</th>\n",
              "      <td>10017</td>\n",
              "      <td>1</td>\n",
              "    </tr>\n",
              "    <tr>\n",
              "      <th>1</th>\n",
              "      <td>10254</td>\n",
              "      <td>0</td>\n",
              "    </tr>\n",
              "    <tr>\n",
              "      <th>2</th>\n",
              "      <td>9685</td>\n",
              "      <td>0</td>\n",
              "    </tr>\n",
              "    <tr>\n",
              "      <th>3</th>\n",
              "      <td>30862</td>\n",
              "      <td>0</td>\n",
              "    </tr>\n",
              "    <tr>\n",
              "      <th>4</th>\n",
              "      <td>57100</td>\n",
              "      <td>0</td>\n",
              "    </tr>\n",
              "    <tr>\n",
              "      <th>5</th>\n",
              "      <td>41777</td>\n",
              "      <td>0</td>\n",
              "    </tr>\n",
              "    <tr>\n",
              "      <th>6</th>\n",
              "      <td>30855</td>\n",
              "      <td>0</td>\n",
              "    </tr>\n",
              "    <tr>\n",
              "      <th>7</th>\n",
              "      <td>41172</td>\n",
              "      <td>0</td>\n",
              "    </tr>\n",
              "    <tr>\n",
              "      <th>8</th>\n",
              "      <td>29154</td>\n",
              "      <td>0</td>\n",
              "    </tr>\n",
              "    <tr>\n",
              "      <th>9</th>\n",
              "      <td>34046</td>\n",
              "      <td>0</td>\n",
              "    </tr>\n",
              "    <tr>\n",
              "      <th>10</th>\n",
              "      <td>4097</td>\n",
              "      <td>0</td>\n",
              "    </tr>\n",
              "    <tr>\n",
              "      <th>11</th>\n",
              "      <td>10017</td>\n",
              "      <td>1</td>\n",
              "    </tr>\n",
              "    <tr>\n",
              "      <th>12</th>\n",
              "      <td>10254</td>\n",
              "      <td>1</td>\n",
              "    </tr>\n",
              "  </tbody>\n",
              "</table>\n",
              "</div>"
            ],
            "text/plain": [
              "    imgid feedback\n",
              "0   10017        1\n",
              "1   10254        0\n",
              "2    9685        0\n",
              "3   30862        0\n",
              "4   57100        0\n",
              "5   41777        0\n",
              "6   30855        0\n",
              "7   41172        0\n",
              "8   29154        0\n",
              "9   34046        0\n",
              "10   4097        0\n",
              "11  10017        1\n",
              "12  10254        1"
            ]
          },
          "metadata": {
            "tags": []
          },
          "execution_count": 127
        }
      ]
    },
    {
      "cell_type": "code",
      "metadata": {
        "id": "WdlyGnrn7QME"
      },
      "source": [
        "epsilon = 0.8\n",
        "def topk_dice(x):\n",
        "  if (np.random.random()>epsilon) or (x<20):\n",
        "    return 20\n",
        "  else:\n",
        "    return 5"
      ],
      "execution_count": null,
      "outputs": []
    },
    {
      "cell_type": "code",
      "metadata": {
        "id": "N4YZb6tb_kRP"
      },
      "source": [
        "def recommend():\n",
        "  _x = feedbackdf[feedbackdf.feedback=='1']\n",
        "  impressions = feedbackdf.imgid.unique()\n",
        "  likedlist = _x.imgid.unique()\n",
        "  _x = [item_vectors[x] for x in likedlist]\n",
        "  _x = np.array(_x)\n",
        "  weights=np.arange(_x.shape[0])+1\n",
        "  _x = np.average(_x, axis=0, weights=weights)\n",
        "  _x = _x.astype(np.float32)\n",
        "  topk = topk_dice(len(impressions))\n",
        "  print(topk)\n",
        "  _x = topk_similar2(_x,topk)\n",
        "  _x = [x for x in _x if x not in impressions]\n",
        "  _x = random.choice(_x)\n",
        "  _y = '{}/{}.jpg'.format(image_path, _x)\n",
        "  _y = Image.open(_y)\n",
        "  return _x, _y"
      ],
      "execution_count": null,
      "outputs": []
    },
    {
      "cell_type": "code",
      "metadata": {
        "colab": {
          "base_uri": "https://localhost:8080/",
          "height": 134
        },
        "id": "uuSgvboklCkp",
        "outputId": "ab3bf5bf-e332-4c76-e73f-7772693452d5"
      },
      "source": [
        "_x,_y = recommend()\n",
        "_y.resize((100,100))"
      ],
      "execution_count": null,
      "outputs": [
        {
          "output_type": "stream",
          "text": [
            "20\n"
          ],
          "name": "stdout"
        },
        {
          "output_type": "execute_result",
          "data": {
            "image/png": "[encoded data removed]",
            "text/plain": [
              "<PIL.Image.Image image mode=RGB size=100x100 at 0x7FC41D400C50>"
            ]
          },
          "metadata": {
            "tags": []
          },
          "execution_count": 181
        }
      ]
    },
    {
      "cell_type": "code",
      "metadata": {
        "id": "_I8Dzr8aA5hn"
      },
      "source": [
        "from google.colab import widgets\n",
        "import ipywidgets\n",
        "from IPython.display import display, clear_output\n",
        "\n",
        "pd.set_option(\"max_colwidth\", None)\n",
        "\n",
        "output = ipywidgets.widgets.Output()\n",
        "fbs = w.ToggleButtons(options=[\"Like\", \"Don't Like\"])\n",
        "\n",
        "def on_button_clicked(b):\n",
        "  # Display the message within the output widget.\n",
        "  with output:\n",
        "    clear_output()\n",
        "    _x,_y = recommend()\n",
        "    global feedbackdf\n",
        "    global fbs\n",
        "    _z = '1' if fbs=='Like' else '0'\n",
        "    feedbackdf = feedbackdf.append(pd.Series((_x,_z), index=['imgid','feedback']),ignore_index=True)\n",
        "    display(_y.resize((300,300)))\n",
        "  \n",
        "button = ipywidgets.widgets.Button(description='Recommend next')\n",
        "button.on_click(on_button_clicked)"
      ],
      "execution_count": null,
      "outputs": []
    },
    {
      "cell_type": "code",
      "metadata": {
        "id": "eaaupac-gRkp"
      },
      "source": [
        "display(button)\n",
        "display(output)\n",
        "display(fbs)"
      ],
      "execution_count": null,
      "outputs": []
    },
    {
      "cell_type": "code",
      "metadata": {
        "id": "EsC5BPERuuvr"
      },
      "source": [
        ""
      ],
      "execution_count": null,
      "outputs": []
    }
  ]
}