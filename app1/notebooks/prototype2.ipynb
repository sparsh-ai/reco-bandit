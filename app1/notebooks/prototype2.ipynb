{
 "cells": [
  {
   "cell_type": "code",
   "execution_count": 96,
   "metadata": {},
   "outputs": [
    {
     "data": {
      "text/plain": [
       "<module 'algo2' from 'C:\\\\Users\\\\sparsh.agarwal\\\\Desktop\\\\RecoBandit\\\\app1\\\\algo2.py'>"
      ]
     },
     "execution_count": 96,
     "metadata": {},
     "output_type": "execute_result"
    }
   ],
   "source": [
    "import algo2\n",
    "import importlib\n",
    "importlib.reload(algo2)"
   ]
  },
  {
   "cell_type": "code",
   "execution_count": 2,
   "metadata": {},
   "outputs": [],
   "source": [
    "import numpy as np"
   ]
  },
  {
   "cell_type": "code",
   "execution_count": 16,
   "metadata": {},
   "outputs": [],
   "source": [
    "from algo2 import THSimulation\n",
    "\n",
    "thsim = THSimulation(nb_bandits=3, p_bandits=[0.15, 0.25, 0.60])"
   ]
  },
  {
   "cell_type": "code",
   "execution_count": 22,
   "metadata": {},
   "outputs": [
    {
     "name": "stdout",
     "output_type": "stream",
     "text": [
      "[0.15, 0.25, 0.6] ([8, 10, 33], [1, 2, 16])\n",
      "[0.15, 0.25, 0.6] ([8, 10, 34], [1, 2, 17])\n",
      "[0.15, 0.25, 0.6] ([8, 10, 35], [1, 2, 18])\n",
      "[0.15, 0.25, 0.6] ([8, 11, 35], [1, 2, 18])\n",
      "[0.15, 0.25, 0.6] ([8, 11, 36], [1, 2, 19])\n",
      "[0.15, 0.25, 0.6] ([8, 11, 37], [1, 2, 20])\n",
      "[0.15, 0.25, 0.6] ([8, 11, 38], [1, 2, 21])\n",
      "[0.15, 0.25, 0.6] ([8, 11, 39], [1, 2, 22])\n",
      "[0.15, 0.25, 0.6] ([8, 11, 40], [1, 2, 22])\n",
      "[0.15, 0.25, 0.6] ([8, 11, 41], [1, 2, 22])\n"
     ]
    }
   ],
   "source": [
    "p_bandits = [0.15, 0.25, 0.60]\n",
    "for i in range(10):\n",
    "    x = thsim.step()\n",
    "    print(p_bandits, x)"
   ]
  },
  {
   "cell_type": "code",
   "execution_count": 33,
   "metadata": {},
   "outputs": [],
   "source": [
    "from algo2 import THSimulationAdv\n",
    "\n",
    "thsim = THSimulationAdv(nb_bandits=3)"
   ]
  },
  {
   "cell_type": "code",
   "execution_count": 40,
   "metadata": {},
   "outputs": [
    {
     "name": "stdout",
     "output_type": "stream",
     "text": [
      "[0.15, 0.25, 0.6] ([9, 15, 37], [2, 4, 20])\n",
      "[0.15, 0.25, 0.6] ([9, 15, 38], [2, 4, 21])\n",
      "[0.15, 0.25, 0.6] ([9, 15, 39], [2, 4, 22])\n",
      "[0.15, 0.25, 0.6] ([9, 15, 40], [2, 4, 22])\n",
      "[0.15, 0.25, 0.6] ([9, 15, 41], [2, 4, 23])\n",
      "[0.15, 0.25, 0.6] ([9, 15, 42], [2, 4, 24])\n",
      "[0.15, 0.25, 0.6] ([9, 15, 43], [2, 4, 24])\n",
      "[0.15, 0.25, 0.6] ([9, 15, 44], [2, 4, 24])\n",
      "[0.15, 0.25, 0.6] ([9, 15, 45], [2, 4, 25])\n",
      "[0.15, 0.25, 0.6] ([10, 15, 45], [2, 4, 25])\n"
     ]
    }
   ],
   "source": [
    "p_bandits = [0.15, 0.25, 0.60]\n",
    "for i in range(10):\n",
    "    x = thsim.step(p_bandits)\n",
    "    print(p_bandits, x)"
   ]
  },
  {
   "cell_type": "code",
   "execution_count": 88,
   "metadata": {},
   "outputs": [
    {
     "name": "stdout",
     "output_type": "stream",
     "text": [
      "[0.35, 0.25, 0.6] ([229, 18, 294], [131, 5, 175])\n",
      "[0.35, 0.25, 0.6] ([229, 18, 295], [131, 5, 176])\n",
      "[0.35, 0.25, 0.6] ([230, 18, 295], [132, 5, 176])\n",
      "[0.35, 0.25, 0.6] ([230, 18, 296], [132, 5, 177])\n",
      "[0.35, 0.25, 0.6] ([230, 18, 297], [132, 5, 178])\n",
      "[0.35, 0.25, 0.6] ([230, 18, 298], [132, 5, 178])\n",
      "[0.35, 0.25, 0.6] ([231, 18, 298], [132, 5, 178])\n",
      "[0.35, 0.25, 0.6] ([231, 18, 299], [132, 5, 179])\n",
      "[0.35, 0.25, 0.6] ([231, 18, 300], [132, 5, 179])\n",
      "[0.35, 0.25, 0.6] ([232, 18, 300], [133, 5, 179])\n"
     ]
    }
   ],
   "source": [
    "p_bandits = [0.35, 0.25, 0.60]\n",
    "for i in range(10):\n",
    "    x = thsim.step(p_bandits)\n",
    "    print(p_bandits, x)"
   ]
  },
  {
   "cell_type": "code",
   "execution_count": 1,
   "metadata": {},
   "outputs": [],
   "source": [
    "from algo2 import THSimulationAdv\n",
    "\n",
    "thsim = THSimulationAdv(nb_bandits=4)"
   ]
  },
  {
   "cell_type": "code",
   "execution_count": 3,
   "metadata": {},
   "outputs": [
    {
     "name": "stdout",
     "output_type": "stream",
     "text": [
      "[0.8825613863001202, 0.023362496575141223, 0.4714854669487105, 0.05469319236520176] ([0, 1, 0, 0], [0, 0, 0, 0])\n",
      "[0.8825613863001202, 0.023362496575141223, 0.4714854669487105, 0.05469319236520176] ([1, 1, 0, 0], [1, 0, 0, 0])\n",
      "[0.8825613863001202, 0.023362496575141223, 0.4714854669487105, 0.05469319236520176] ([1, 1, 1, 0], [1, 0, 0, 0])\n",
      "[0.8825613863001202, 0.023362496575141223, 0.4714854669487105, 0.05469319236520176] ([1, 1, 1, 1], [1, 0, 0, 0])\n",
      "[0.8825613863001202, 0.023362496575141223, 0.4714854669487105, 0.05469319236520176] ([2, 1, 1, 1], [2, 0, 0, 0])\n",
      "[0.8825613863001202, 0.023362496575141223, 0.4714854669487105, 0.05469319236520176] ([3, 1, 1, 1], [3, 0, 0, 0])\n",
      "[0.8825613863001202, 0.023362496575141223, 0.4714854669487105, 0.05469319236520176] ([4, 1, 1, 1], [4, 0, 0, 0])\n",
      "[0.8825613863001202, 0.023362496575141223, 0.4714854669487105, 0.05469319236520176] ([5, 1, 1, 1], [5, 0, 0, 0])\n",
      "[0.8825613863001202, 0.023362496575141223, 0.4714854669487105, 0.05469319236520176] ([6, 1, 1, 1], [6, 0, 0, 0])\n",
      "[0.8825613863001202, 0.023362496575141223, 0.4714854669487105, 0.05469319236520176] ([7, 1, 1, 1], [7, 0, 0, 0])\n"
     ]
    }
   ],
   "source": [
    "n_bandits = 4\n",
    "p_bandits = [np.random.rand() for i in range(n_bandits)]\n",
    "for i in range(10):\n",
    "    x = thsim.step(p_bandits)\n",
    "    print(p_bandits, x)"
   ]
  },
  {
   "cell_type": "code",
   "execution_count": 5,
   "metadata": {},
   "outputs": [
    {
     "data": {
      "text/plain": [
       "([7, 4], [3, 1])"
      ]
     },
     "execution_count": 5,
     "metadata": {},
     "output_type": "execute_result"
    }
   ],
   "source": [
    "x = thsim.step(p_bandits)\n",
    "x"
   ]
  },
  {
   "cell_type": "code",
   "execution_count": 8,
   "metadata": {},
   "outputs": [
    {
     "data": {
      "text/plain": [
       "4"
      ]
     },
     "execution_count": 8,
     "metadata": {},
     "output_type": "execute_result"
    }
   ],
   "source": [
    "x[0][1]"
   ]
  },
  {
   "cell_type": "code",
   "execution_count": null,
   "metadata": {},
   "outputs": [],
   "source": []
  }
 ],
 "metadata": {
  "kernelspec": {
   "display_name": "Python 3",
   "language": "python",
   "name": "python3"
  },
  "language_info": {
   "codemirror_mode": {
    "name": "ipython",
    "version": 3
   },
   "file_extension": ".py",
   "mimetype": "text/x-python",
   "name": "python",
   "nbconvert_exporter": "python",
   "pygments_lexer": "ipython3",
   "version": "3.7.3"
  }
 },
 "nbformat": 4,
 "nbformat_minor": 4
}
